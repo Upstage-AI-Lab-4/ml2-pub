{
 "cells": [
  {
   "cell_type": "code",
   "execution_count": 1,
   "id": "e237f734-7be0-4933-85ea-997f6144050b",
   "metadata": {},
   "outputs": [],
   "source": [
    "# 모든 변수 삭제\n",
    "%reset -f"
   ]
  },
  {
   "cell_type": "code",
   "execution_count": 2,
   "id": "7fb7bd8c-c8b0-4a9f-8cbd-a2f25dfb5e0c",
   "metadata": {},
   "outputs": [],
   "source": [
    "# visualization\n",
    "import matplotlib.pyplot as plt\n",
    "import matplotlib.font_manager as fm\n",
    "fe = fm.FontEntry(\n",
    "    fname=r'../resources/fonts/NanumGothic.ttf', # ttf 파일이 저장되어 있는 경로\n",
    "    name='NanumGothic')                        # 이 폰트의 원하는 이름 설정\n",
    "fm.fontManager.ttflist.insert(0, fe)              # Matplotlib에 폰트 추가\n",
    "plt.rcParams.update({'font.size': 10, 'font.family': 'NanumGothic'}) # 폰트 설정\n",
    "plt.rc('font', family='NanumGothic')\n",
    "import seaborn as sns\n",
    "import ast\n",
    "\n",
    "# utils\n",
    "import pandas as pd\n",
    "import numpy as np\n",
    "from tqdm import tqdm\n",
    "import pickle\n",
    "import warnings;warnings.filterwarnings('ignore')\n",
    "\n",
    "from sklearn.preprocessing import MultiLabelBinarizer\n",
    "from sklearn.metrics.pairwise import cosine_similarity\n",
    "from sklearn.feature_extraction.text import TfidfVectorizer\n",
    "from sklearn.feature_extraction.text import CountVectorizer\n",
    "from sklearn.ensemble import IsolationForest\n",
    "from sklearn.decomposition import TruncatedSVD\n",
    "from torch.utils.data import DataLoader, TensorDataset\n",
    "from torch.cuda.amp import autocast, GradScaler"
   ]
  },
  {
   "cell_type": "code",
   "execution_count": 3,
   "id": "59a750a4-1fb1-4387-a82f-bbdfa20c7ef4",
   "metadata": {},
   "outputs": [],
   "source": [
    "# 필요한 데이터 load\n",
    "movie_path = '../datasets/movie.csv'\n",
    "rating_path = '../datasets/rating.csv'\n",
    "credit_path = '../datasets/credit.csv'\n",
    "movie_dt = pd.read_csv(movie_path)\n",
    "rating_dt = pd.read_csv(rating_path)\n",
    "credit_dt = pd.read_csv(credit_path)"
   ]
  },
  {
   "cell_type": "code",
   "execution_count": 4,
   "id": "cc758faa-77fc-44be-83b5-6757088bf9b1",
   "metadata": {},
   "outputs": [
    {
     "data": {
      "text/plain": [
       "(41591, 29)"
      ]
     },
     "execution_count": 4,
     "metadata": {},
     "output_type": "execute_result"
    }
   ],
   "source": [
    "movie_dt.shape"
   ]
  },
  {
   "cell_type": "code",
   "execution_count": 5,
   "id": "dae37dcb-bcc6-4984-a5ff-038cf029b97c",
   "metadata": {},
   "outputs": [
    {
     "data": {
      "text/plain": [
       "Unnamed: 0.2                 0\n",
       "Unnamed: 0.1             11034\n",
       "Unnamed: 0                   0\n",
       "adult                        0\n",
       "backdrop_path             4890\n",
       "belongs_to_collection    36054\n",
       "budget                       0\n",
       "genres                       0\n",
       "homepage                 33445\n",
       "id                           0\n",
       "imdb_id                      5\n",
       "origin_country               0\n",
       "original_language            0\n",
       "original_title               0\n",
       "overview                   205\n",
       "popularity                   0\n",
       "poster_path                610\n",
       "production_companies         0\n",
       "production_countries         0\n",
       "release_date                 0\n",
       "revenue                      0\n",
       "runtime                      0\n",
       "spoken_languages             0\n",
       "status                       0\n",
       "tagline                  18088\n",
       "title                        0\n",
       "video                        0\n",
       "vote_average                 0\n",
       "vote_count                   0\n",
       "dtype: int64"
      ]
     },
     "execution_count": 5,
     "metadata": {},
     "output_type": "execute_result"
    }
   ],
   "source": [
    "#결측치 확인\n",
    "movie_dt.isnull().sum()"
   ]
  },
  {
   "cell_type": "code",
   "execution_count": 6,
   "id": "2ce4d578-59c4-451e-a1bb-af9350df68fc",
   "metadata": {},
   "outputs": [
    {
     "data": {
      "text/plain": [
       "Unnamed: 0.1    0\n",
       "Unnamed: 0      0\n",
       "userId          0\n",
       "movieId         0\n",
       "rating          0\n",
       "timestamp       0\n",
       "tmdbId          0\n",
       "dtype: int64"
      ]
     },
     "execution_count": 6,
     "metadata": {},
     "output_type": "execute_result"
    }
   ],
   "source": [
    "rating_dt.isnull().sum()"
   ]
  },
  {
   "cell_type": "code",
   "execution_count": 7,
   "id": "f9b2b686-9afc-4ff5-81e1-4255e81255ae",
   "metadata": {},
   "outputs": [
    {
     "data": {
      "text/plain": [
       "cast    0\n",
       "crew    0\n",
       "id      0\n",
       "dtype: int64"
      ]
     },
     "execution_count": 7,
     "metadata": {},
     "output_type": "execute_result"
    }
   ],
   "source": [
    "credit_dt.isnull().sum()"
   ]
  },
  {
   "cell_type": "code",
   "execution_count": 8,
   "id": "5b0444a5-9714-4d7f-8544-355ed018ca05",
   "metadata": {},
   "outputs": [
    {
     "data": {
      "text/html": [
       "<div>\n",
       "<style scoped>\n",
       "    .dataframe tbody tr th:only-of-type {\n",
       "        vertical-align: middle;\n",
       "    }\n",
       "\n",
       "    .dataframe tbody tr th {\n",
       "        vertical-align: top;\n",
       "    }\n",
       "\n",
       "    .dataframe thead th {\n",
       "        text-align: right;\n",
       "    }\n",
       "</style>\n",
       "<table border=\"1\" class=\"dataframe\">\n",
       "  <thead>\n",
       "    <tr style=\"text-align: right;\">\n",
       "      <th></th>\n",
       "      <th>Unnamed: 0.2</th>\n",
       "      <th>Unnamed: 0.1</th>\n",
       "      <th>Unnamed: 0</th>\n",
       "      <th>adult</th>\n",
       "      <th>backdrop_path</th>\n",
       "      <th>belongs_to_collection</th>\n",
       "      <th>budget</th>\n",
       "      <th>genres</th>\n",
       "      <th>homepage</th>\n",
       "      <th>id</th>\n",
       "      <th>...</th>\n",
       "      <th>release_date</th>\n",
       "      <th>revenue</th>\n",
       "      <th>runtime</th>\n",
       "      <th>spoken_languages</th>\n",
       "      <th>status</th>\n",
       "      <th>tagline</th>\n",
       "      <th>title</th>\n",
       "      <th>video</th>\n",
       "      <th>vote_average</th>\n",
       "      <th>vote_count</th>\n",
       "    </tr>\n",
       "  </thead>\n",
       "  <tbody>\n",
       "    <tr>\n",
       "      <th>0</th>\n",
       "      <td>0</td>\n",
       "      <td>0.0</td>\n",
       "      <td>0</td>\n",
       "      <td>False</td>\n",
       "      <td>/n2K8BsXiafvIBaEUsG7UQfDyffT.jpg</td>\n",
       "      <td>NaN</td>\n",
       "      <td>0</td>\n",
       "      <td>[{'id': 28, 'name': 'Action'}, {'id': 10752, '...</td>\n",
       "      <td>NaN</td>\n",
       "      <td>33545</td>\n",
       "      <td>...</td>\n",
       "      <td>1989-01-27</td>\n",
       "      <td>0</td>\n",
       "      <td>97</td>\n",
       "      <td>[{'english_name': 'English', 'iso_639_1': 'en'...</td>\n",
       "      <td>Released</td>\n",
       "      <td>Against all odds they went to hell and back.</td>\n",
       "      <td>The Siege of Firebase Gloria</td>\n",
       "      <td>False</td>\n",
       "      <td>5.500</td>\n",
       "      <td>50</td>\n",
       "    </tr>\n",
       "    <tr>\n",
       "      <th>1</th>\n",
       "      <td>1</td>\n",
       "      <td>1.0</td>\n",
       "      <td>1</td>\n",
       "      <td>False</td>\n",
       "      <td>/pFTmDnSWkM7jJvlPkZQrBGStsg7.jpg</td>\n",
       "      <td>NaN</td>\n",
       "      <td>0</td>\n",
       "      <td>[{'id': 35, 'name': 'Comedy'}]</td>\n",
       "      <td>https://videomercury.com/catalogue/film/?idpel...</td>\n",
       "      <td>20607</td>\n",
       "      <td>...</td>\n",
       "      <td>1989-01-17</td>\n",
       "      <td>0</td>\n",
       "      <td>106</td>\n",
       "      <td>[{'english_name': 'Spanish', 'iso_639_1': 'es'...</td>\n",
       "      <td>Released</td>\n",
       "      <td>NaN</td>\n",
       "      <td>Dawn Breaks, Which Is No Small Thing</td>\n",
       "      <td>False</td>\n",
       "      <td>7.008</td>\n",
       "      <td>120</td>\n",
       "    </tr>\n",
       "    <tr>\n",
       "      <th>2</th>\n",
       "      <td>2</td>\n",
       "      <td>2.0</td>\n",
       "      <td>2</td>\n",
       "      <td>False</td>\n",
       "      <td>/5P3EeDAzFPScaDx0IAJbPJJxWOW.jpg</td>\n",
       "      <td>NaN</td>\n",
       "      <td>16000000</td>\n",
       "      <td>[{'id': 80, 'name': 'Crime'}, {'id': 53, 'name...</td>\n",
       "      <td>NaN</td>\n",
       "      <td>31606</td>\n",
       "      <td>...</td>\n",
       "      <td>1989-01-25</td>\n",
       "      <td>10647219</td>\n",
       "      <td>108</td>\n",
       "      <td>[{'english_name': 'English', 'iso_639_1': 'en'...</td>\n",
       "      <td>Released</td>\n",
       "      <td>He's one man racing against time to stop the m...</td>\n",
       "      <td>The Package</td>\n",
       "      <td>False</td>\n",
       "      <td>6.095</td>\n",
       "      <td>211</td>\n",
       "    </tr>\n",
       "  </tbody>\n",
       "</table>\n",
       "<p>3 rows × 29 columns</p>\n",
       "</div>"
      ],
      "text/plain": [
       "   Unnamed: 0.2  Unnamed: 0.1  Unnamed: 0  adult  \\\n",
       "0             0           0.0           0  False   \n",
       "1             1           1.0           1  False   \n",
       "2             2           2.0           2  False   \n",
       "\n",
       "                      backdrop_path belongs_to_collection    budget  \\\n",
       "0  /n2K8BsXiafvIBaEUsG7UQfDyffT.jpg                   NaN         0   \n",
       "1  /pFTmDnSWkM7jJvlPkZQrBGStsg7.jpg                   NaN         0   \n",
       "2  /5P3EeDAzFPScaDx0IAJbPJJxWOW.jpg                   NaN  16000000   \n",
       "\n",
       "                                              genres  \\\n",
       "0  [{'id': 28, 'name': 'Action'}, {'id': 10752, '...   \n",
       "1                     [{'id': 35, 'name': 'Comedy'}]   \n",
       "2  [{'id': 80, 'name': 'Crime'}, {'id': 53, 'name...   \n",
       "\n",
       "                                            homepage     id  ... release_date  \\\n",
       "0                                                NaN  33545  ...   1989-01-27   \n",
       "1  https://videomercury.com/catalogue/film/?idpel...  20607  ...   1989-01-17   \n",
       "2                                                NaN  31606  ...   1989-01-25   \n",
       "\n",
       "    revenue runtime                                   spoken_languages  \\\n",
       "0         0      97  [{'english_name': 'English', 'iso_639_1': 'en'...   \n",
       "1         0     106  [{'english_name': 'Spanish', 'iso_639_1': 'es'...   \n",
       "2  10647219     108  [{'english_name': 'English', 'iso_639_1': 'en'...   \n",
       "\n",
       "     status                                            tagline  \\\n",
       "0  Released       Against all odds they went to hell and back.   \n",
       "1  Released                                                NaN   \n",
       "2  Released  He's one man racing against time to stop the m...   \n",
       "\n",
       "                                  title  video vote_average vote_count  \n",
       "0          The Siege of Firebase Gloria  False        5.500         50  \n",
       "1  Dawn Breaks, Which Is No Small Thing  False        7.008        120  \n",
       "2                           The Package  False        6.095        211  \n",
       "\n",
       "[3 rows x 29 columns]"
      ]
     },
     "execution_count": 8,
     "metadata": {},
     "output_type": "execute_result"
    }
   ],
   "source": [
    "movie_dt.head(3)"
   ]
  },
  {
   "cell_type": "code",
   "execution_count": 9,
   "id": "d5f5716b-fe18-43e3-9016-e3c9e72d9005",
   "metadata": {},
   "outputs": [
    {
     "data": {
      "text/html": [
       "<div>\n",
       "<style scoped>\n",
       "    .dataframe tbody tr th:only-of-type {\n",
       "        vertical-align: middle;\n",
       "    }\n",
       "\n",
       "    .dataframe tbody tr th {\n",
       "        vertical-align: top;\n",
       "    }\n",
       "\n",
       "    .dataframe thead th {\n",
       "        text-align: right;\n",
       "    }\n",
       "</style>\n",
       "<table border=\"1\" class=\"dataframe\">\n",
       "  <thead>\n",
       "    <tr style=\"text-align: right;\">\n",
       "      <th></th>\n",
       "      <th>userId</th>\n",
       "      <th>movieId</th>\n",
       "      <th>rating</th>\n",
       "      <th>timestamp</th>\n",
       "      <th>tmdbId</th>\n",
       "    </tr>\n",
       "  </thead>\n",
       "  <tbody>\n",
       "    <tr>\n",
       "      <th>0</th>\n",
       "      <td>1</td>\n",
       "      <td>110</td>\n",
       "      <td>1.0</td>\n",
       "      <td>1425941529</td>\n",
       "      <td>197</td>\n",
       "    </tr>\n",
       "    <tr>\n",
       "      <th>1</th>\n",
       "      <td>1</td>\n",
       "      <td>147</td>\n",
       "      <td>4.5</td>\n",
       "      <td>1425942435</td>\n",
       "      <td>10474</td>\n",
       "    </tr>\n",
       "    <tr>\n",
       "      <th>2</th>\n",
       "      <td>1</td>\n",
       "      <td>858</td>\n",
       "      <td>5.0</td>\n",
       "      <td>1425941523</td>\n",
       "      <td>238</td>\n",
       "    </tr>\n",
       "    <tr>\n",
       "      <th>3</th>\n",
       "      <td>1</td>\n",
       "      <td>1221</td>\n",
       "      <td>5.0</td>\n",
       "      <td>1425941546</td>\n",
       "      <td>240</td>\n",
       "    </tr>\n",
       "    <tr>\n",
       "      <th>4</th>\n",
       "      <td>1</td>\n",
       "      <td>1246</td>\n",
       "      <td>5.0</td>\n",
       "      <td>1425941556</td>\n",
       "      <td>207</td>\n",
       "    </tr>\n",
       "    <tr>\n",
       "      <th>...</th>\n",
       "      <td>...</td>\n",
       "      <td>...</td>\n",
       "      <td>...</td>\n",
       "      <td>...</td>\n",
       "      <td>...</td>\n",
       "    </tr>\n",
       "    <tr>\n",
       "      <th>25109103</th>\n",
       "      <td>270896</td>\n",
       "      <td>58559</td>\n",
       "      <td>5.0</td>\n",
       "      <td>1257031564</td>\n",
       "      <td>155</td>\n",
       "    </tr>\n",
       "    <tr>\n",
       "      <th>25109104</th>\n",
       "      <td>270896</td>\n",
       "      <td>60069</td>\n",
       "      <td>5.0</td>\n",
       "      <td>1257032032</td>\n",
       "      <td>10681</td>\n",
       "    </tr>\n",
       "    <tr>\n",
       "      <th>25109105</th>\n",
       "      <td>270896</td>\n",
       "      <td>63082</td>\n",
       "      <td>4.5</td>\n",
       "      <td>1257031764</td>\n",
       "      <td>12405</td>\n",
       "    </tr>\n",
       "    <tr>\n",
       "      <th>25109106</th>\n",
       "      <td>270896</td>\n",
       "      <td>64957</td>\n",
       "      <td>4.5</td>\n",
       "      <td>1257033990</td>\n",
       "      <td>4922</td>\n",
       "    </tr>\n",
       "    <tr>\n",
       "      <th>25109107</th>\n",
       "      <td>270896</td>\n",
       "      <td>71878</td>\n",
       "      <td>2.0</td>\n",
       "      <td>1257031858</td>\n",
       "      <td>19904</td>\n",
       "    </tr>\n",
       "  </tbody>\n",
       "</table>\n",
       "<p>25109108 rows × 5 columns</p>\n",
       "</div>"
      ],
      "text/plain": [
       "          userId  movieId  rating   timestamp  tmdbId\n",
       "0              1      110     1.0  1425941529     197\n",
       "1              1      147     4.5  1425942435   10474\n",
       "2              1      858     5.0  1425941523     238\n",
       "3              1     1221     5.0  1425941546     240\n",
       "4              1     1246     5.0  1425941556     207\n",
       "...          ...      ...     ...         ...     ...\n",
       "25109103  270896    58559     5.0  1257031564     155\n",
       "25109104  270896    60069     5.0  1257032032   10681\n",
       "25109105  270896    63082     4.5  1257031764   12405\n",
       "25109106  270896    64957     4.5  1257033990    4922\n",
       "25109107  270896    71878     2.0  1257031858   19904\n",
       "\n",
       "[25109108 rows x 5 columns]"
      ]
     },
     "execution_count": 9,
     "metadata": {},
     "output_type": "execute_result"
    }
   ],
   "source": [
    "rating_dt.drop(['Unnamed: 0.1', 'Unnamed: 0'], axis=1)"
   ]
  },
  {
   "cell_type": "markdown",
   "id": "09cce4a6-5c52-4bd5-805c-435fe4d046f2",
   "metadata": {},
   "source": [
    "## 필요한 정보만 남기기"
   ]
  },
  {
   "cell_type": "code",
   "execution_count": 10,
   "id": "35bd2f1f-5402-4b43-83c8-9e197abaeb0b",
   "metadata": {},
   "outputs": [],
   "source": [
    "#필요한 컬럼만 선택\n",
    "selected_columns = ['genres', 'id', 'original_language', 'popularity', 'release_date', \n",
    "                    'status', 'title', 'vote_average','production_companies']\n",
    "movie_dt= movie_dt[selected_columns]"
   ]
  },
  {
   "cell_type": "code",
   "execution_count": 11,
   "id": "75ad671a-e4c9-46a1-8381-4b2471a80f79",
   "metadata": {},
   "outputs": [],
   "source": [
    "#status가 released가 아닌 영화들 제외\n",
    "movie_dt = movie_dt[movie_dt['status'] == 'Released'].dropna(subset=['status'])\n",
    "\n",
    "#popularity 데이터타입 변환\n",
    "movie_dt['popularity'] = movie_dt['popularity'].astype(float)"
   ]
  },
  {
   "cell_type": "code",
   "execution_count": 12,
   "id": "0e9ba3f4-fad7-4700-a3d1-05cee69a83bb",
   "metadata": {},
   "outputs": [
    {
     "name": "stdout",
     "output_type": "stream",
     "text": [
      "object\n",
      "0    [{'id': 28, 'name': 'Action'}, {'id': 10752, '...\n",
      "1                       [{'id': 35, 'name': 'Comedy'}]\n",
      "2    [{'id': 80, 'name': 'Crime'}, {'id': 53, 'name...\n",
      "3                       [{'id': 27, 'name': 'Horror'}]\n",
      "4    [{'id': 53, 'name': 'Thriller'}, {'id': 80, 'n...\n",
      "5                       [{'id': 27, 'name': 'Horror'}]\n",
      "6    [{'id': 28, 'name': 'Action'}, {'id': 27, 'nam...\n",
      "7    [{'id': 80, 'name': 'Crime'}, {'id': 53, 'name...\n",
      "8    [{'id': 35, 'name': 'Comedy'}, {'id': 80, 'nam...\n",
      "9    [{'id': 35, 'name': 'Comedy'}, {'id': 10749, '...\n",
      "Name: genres, dtype: object\n"
     ]
    }
   ],
   "source": [
    "# genres 컬럼의 데이터 타입 및 일부 샘플 확인\n",
    "print(movie_dt['genres'].dtype)\n",
    "print(movie_dt['genres'].head(10))\n"
   ]
  },
  {
   "cell_type": "code",
   "execution_count": 13,
   "id": "40fc4c1c-5c1f-4162-be4f-626280e306b8",
   "metadata": {},
   "outputs": [
    {
     "name": "stdout",
     "output_type": "stream",
     "text": [
      "0                Action, War\n",
      "1                     Comedy\n",
      "2    Crime, Thriller, Action\n",
      "3                     Horror\n",
      "4            Thriller, Crime\n",
      "Name: genres, dtype: object\n"
     ]
    }
   ],
   "source": [
    "#장르 추출\n",
    "def extract_genre_names(genres_string):\n",
    "    try:\n",
    "        # 문자열일 때만 처리\n",
    "        if isinstance(genres_string, str):\n",
    "            genres_list = ast.literal_eval(genres_string)  # 문자열을 파이썬 객체로 변환\n",
    "            genre_names = [genre['name'] for genre in genres_list]  # 이름만 추출\n",
    "            return ', '.join(genre_names)\n",
    "        else:\n",
    "            return None  # 문자열이 아닌 경우 None 반환\n",
    "    except (ValueError, SyntaxError):\n",
    "        return None  # 변환에 실패하면 None 반환\n",
    "\n",
    "# 'genres' 컬럼에 적용하여 'name' 리스트만 저장\n",
    "movie_dt['genres'] = movie_dt['genres'].apply(extract_genre_names)\n",
    "\n",
    "# 결과 확인\n",
    "print(movie_dt['genres'].head())"
   ]
  },
  {
   "cell_type": "code",
   "execution_count": 14,
   "id": "4e20cb44-1ac4-4d99-b36a-3ada565f31e0",
   "metadata": {},
   "outputs": [
    {
     "name": "stdout",
     "output_type": "stream",
     "text": [
      "                                         actor_names\n",
      "0  Tom Hanks, Tim Allen, Don Rickles, Jim Varney,...\n",
      "1  Robin Williams, Jonathan Hyde, Kirsten Dunst, ...\n",
      "2  Walter Matthau, Jack Lemmon, Ann-Margret, Soph...\n",
      "3  Whitney Houston, Angela Bassett, Loretta Devin...\n",
      "4  Steve Martin, Diane Keaton, Martin Short, Kimb...\n"
     ]
    }
   ],
   "source": [
    "#배우 추출\n",
    "def extract_actor_names(cast_str):\n",
    "    cast_list = ast.literal_eval(cast_str)\n",
    "    actor_names = [cast_member['name'] for cast_member in cast_list]\n",
    "    return ', '.join(actor_names)\n",
    "\n",
    "credit_dt['actor_names'] = credit_dt['cast'].apply(extract_actor_names)\n",
    "\n",
    "print(credit_dt[['actor_names']].head())"
   ]
  },
  {
   "cell_type": "code",
   "execution_count": 15,
   "id": "627da708-0a30-4055-8362-e1715a5a9139",
   "metadata": {},
   "outputs": [
    {
     "name": "stdout",
     "output_type": "stream",
     "text": [
      "    director_names\n",
      "0    John Lasseter\n",
      "1     Joe Johnston\n",
      "2    Howard Deutch\n",
      "3  Forest Whitaker\n",
      "4    Charles Shyer\n"
     ]
    }
   ],
   "source": [
    "#감독 추출\n",
    "def extract_director_names(crew_str):\n",
    "    crew_list = ast.literal_eval(crew_str)\n",
    "    director_names = [crew_member['name'] for crew_member in crew_list if crew_member['job'] == 'Director']\n",
    "    return ', '.join(director_names)\n",
    "\n",
    "credit_dt['director_names'] = credit_dt['crew'].apply(extract_director_names)\n",
    "\n",
    "print(credit_dt[['director_names']].head())"
   ]
  },
  {
   "cell_type": "code",
   "execution_count": 16,
   "id": "35cb8afe-3ff1-4954-80f2-9f61874a4bac",
   "metadata": {},
   "outputs": [],
   "source": [
    "#데이터 변환\n",
    "movie_dt['id'] = movie_dt['id'].astype(str)\n",
    "credit_dt['id'] = credit_dt['id'].astype(str)"
   ]
  },
  {
   "cell_type": "code",
   "execution_count": 17,
   "id": "dffb5ef4-8f85-4b66-a2e7-25bdd119090e",
   "metadata": {},
   "outputs": [
    {
     "data": {
      "text/html": [
       "<div>\n",
       "<style scoped>\n",
       "    .dataframe tbody tr th:only-of-type {\n",
       "        vertical-align: middle;\n",
       "    }\n",
       "\n",
       "    .dataframe tbody tr th {\n",
       "        vertical-align: top;\n",
       "    }\n",
       "\n",
       "    .dataframe thead th {\n",
       "        text-align: right;\n",
       "    }\n",
       "</style>\n",
       "<table border=\"1\" class=\"dataframe\">\n",
       "  <thead>\n",
       "    <tr style=\"text-align: right;\">\n",
       "      <th></th>\n",
       "      <th>genres</th>\n",
       "      <th>id</th>\n",
       "      <th>original_language</th>\n",
       "      <th>popularity</th>\n",
       "      <th>release_date</th>\n",
       "      <th>status</th>\n",
       "      <th>title</th>\n",
       "      <th>vote_average</th>\n",
       "      <th>production_companies</th>\n",
       "      <th>actor_names</th>\n",
       "      <th>director_names</th>\n",
       "    </tr>\n",
       "  </thead>\n",
       "  <tbody>\n",
       "    <tr>\n",
       "      <th>0</th>\n",
       "      <td>Action, War</td>\n",
       "      <td>33545</td>\n",
       "      <td>en</td>\n",
       "      <td>21.775</td>\n",
       "      <td>1989-01-27</td>\n",
       "      <td>Released</td>\n",
       "      <td>The Siege of Firebase Gloria</td>\n",
       "      <td>5.500</td>\n",
       "      <td>[{'id': 6206, 'logo_path': None, 'name': 'Inte...</td>\n",
       "      <td>Wings Hauser, R. Lee Ermey, Robert Arevalo, Ma...</td>\n",
       "      <td>Brian Trenchard-Smith</td>\n",
       "    </tr>\n",
       "    <tr>\n",
       "      <th>1</th>\n",
       "      <td>Comedy</td>\n",
       "      <td>20607</td>\n",
       "      <td>es</td>\n",
       "      <td>18.199</td>\n",
       "      <td>1989-01-17</td>\n",
       "      <td>Released</td>\n",
       "      <td>Dawn Breaks, Which Is No Small Thing</td>\n",
       "      <td>7.008</td>\n",
       "      <td>[{'id': 38519, 'logo_path': None, 'name': 'Com...</td>\n",
       "      <td>Antonio Resines, José Sazatornil, Manuel Alexa...</td>\n",
       "      <td>José Luis Cuerda</td>\n",
       "    </tr>\n",
       "  </tbody>\n",
       "</table>\n",
       "</div>"
      ],
      "text/plain": [
       "        genres     id original_language  popularity release_date    status  \\\n",
       "0  Action, War  33545                en      21.775   1989-01-27  Released   \n",
       "1       Comedy  20607                es      18.199   1989-01-17  Released   \n",
       "\n",
       "                                  title  vote_average  \\\n",
       "0          The Siege of Firebase Gloria         5.500   \n",
       "1  Dawn Breaks, Which Is No Small Thing         7.008   \n",
       "\n",
       "                                production_companies  \\\n",
       "0  [{'id': 6206, 'logo_path': None, 'name': 'Inte...   \n",
       "1  [{'id': 38519, 'logo_path': None, 'name': 'Com...   \n",
       "\n",
       "                                         actor_names         director_names  \n",
       "0  Wings Hauser, R. Lee Ermey, Robert Arevalo, Ma...  Brian Trenchard-Smith  \n",
       "1  Antonio Resines, José Sazatornil, Manuel Alexa...       José Luis Cuerda  "
      ]
     },
     "execution_count": 17,
     "metadata": {},
     "output_type": "execute_result"
    }
   ],
   "source": [
    "movie_dt = pd.merge(movie_dt, credit_dt[['id', 'actor_names', 'director_names']], on='id', how='left')\n",
    "movie_dt.head(2)"
   ]
  },
  {
   "cell_type": "code",
   "execution_count": 18,
   "id": "91b7c9b9-c9da-4a4c-9ff1-f097a394a2d3",
   "metadata": {},
   "outputs": [
    {
     "name": "stdout",
     "output_type": "stream",
     "text": [
      "                                  title  release_year\n",
      "0          The Siege of Firebase Gloria          1989\n",
      "1  Dawn Breaks, Which Is No Small Thing          1989\n",
      "2                           The Package          1989\n",
      "3                            Sweet Home          1989\n",
      "4                     Physical Evidence          1989\n"
     ]
    }
   ],
   "source": [
    "# 개봉연도 열 추가\n",
    "movie_dt['release_year'] = pd.to_datetime(movie_dt['release_date']).dt.year\n",
    "movie_dt['release_year'] = movie_dt['release_year'].fillna(0).astype(int)\n",
    "print(movie_dt[['title', 'release_year']].head())"
   ]
  },
  {
   "cell_type": "code",
   "execution_count": 19,
   "id": "3219d465-de8e-4973-a92c-3d02deb0ab16",
   "metadata": {},
   "outputs": [],
   "source": [
    "rating_dt['tmdbId'] = rating_dt['tmdbId'].fillna(0).astype('int32')\n",
    "movie_dt['id'] = movie_dt['id'].astype('int32')\n",
    "movie_dt['release_year'] = pd.to_datetime(movie_dt['release_year'], errors='coerce').dt.year\n",
    "movie_dt['release_year'] = movie_dt['release_year'].fillna(0).astype(int)"
   ]
  },
  {
   "cell_type": "code",
   "execution_count": null,
   "id": "b2e8d1b5-e82b-4c72-ba03-d7d43882b2e9",
   "metadata": {},
   "outputs": [],
   "source": []
  },
  {
   "cell_type": "code",
   "execution_count": 26,
   "id": "eb8fe9ac-8dec-4605-b75c-d43f0161654c",
   "metadata": {},
   "outputs": [],
   "source": [
    "# 사용자 프로필 생성\n",
    "def build_user_profile(user_id, rating_dt, movie_dt):\n",
    "    # 사용자가 평점을 준 영화 정보 가져오기\n",
    "    user_ratings = rating_dt[rating_dt['userId'] == user_id]\n",
    "    \n",
    "    # 'tmdbId'와 'id'를 매핑하여 사용자의 영화 정보를 가져오기\n",
    "    user_movies = movie_dt[movie_dt['id'].isin(user_ratings['tmdbId'].values)].copy()\n",
    "    user_movies.reset_index(drop=True, inplace=True)  # 인덱스 재설정\n",
    "\n",
    "    # 영화 장르, 배우, 감독 데이터 하나의 텍스트로 합치기\n",
    "    user_movies['combined_features'] = (\n",
    "        user_movies['genres'].fillna('') + ' ' +\n",
    "        user_movies['actor_names'].fillna('') + ' ' +\n",
    "        user_movies['director_names'].fillna('')\n",
    "    )\n",
    "    \n",
    "    # TF-IDF -> 영화 특징 벡터화\n",
    "    tfidf = TfidfVectorizer(token_pattern=r'[^| ]+')  # '|' 또는 공백으로 구분된 특징들\n",
    "    tfidf_matrix = tfidf.fit_transform(user_movies['combined_features'])\n",
    "\n",
    "    # 평점 가중치 반영\n",
    "    weighted_tfidf = np.zeros(tfidf_matrix.shape)\n",
    "    for idx, row in user_ratings.iterrows():\n",
    "        # 'id'와 'tmdbId'가 일치하는 인덱스 찾기\n",
    "        movie_index = user_movies.index[user_movies['id'] == row['tmdbId']].tolist()\n",
    "\n",
    "        # 디버깅용 출력\n",
    "        #print(f\"Matching tmdbId {row['tmdbId']} with movie_index: {movie_index}, tfidf_matrix shape: {tfidf_matrix.shape}\")\n",
    "        \n",
    "        # movie_index가 존재하고, tfidf_matrix의 범위 내인지 확인\n",
    "        if movie_index and movie_index[0] < tfidf_matrix.shape[0]:\n",
    "            # tfidf_matrix와 weighted_tfidf 인덱스 확인\n",
    "            #print(f\"Applying weight for movie_index: {movie_index[0]}\")\n",
    "            weighted_tfidf[movie_index[0], :] = tfidf_matrix[movie_index[0], :].toarray() * row['rating']\n",
    "        else:\n",
    "            print(f\"Movie with tmdbId {row['tmdbId']} not found or index out of range.\")\n",
    "\n",
    "    # 사용자 프로필 벡터 생성\n",
    "    user_profile = np.mean(weighted_tfidf, axis=0)\n",
    "\n",
    "    return user_profile, tfidf\n"
   ]
  },
  {
   "cell_type": "code",
   "execution_count": 44,
   "id": "f0f15f51-5258-4405-890a-4536e8831bc3",
   "metadata": {},
   "outputs": [],
   "source": [
    "# 사용자 프로필과 영화 유사도 비교, 개봉연도 가중치 추가\n",
    "def content_based_recommendation(user_id, movie_dt, rating_dt, num_recommendations, bonus_weight):\n",
    "    # 사용자 프로필 생성\n",
    "    user_profile, tfidf = build_user_profile(user_id, rating_dt, movie_dt)\n",
    "\n",
    "    # 영화 특징 추출 및 TF-IDF 변환\n",
    "    movie_dt['combined_features'] = (\n",
    "        movie_dt['genres'].fillna('') + ' ' + \n",
    "        movie_dt['actor_names'].fillna('') + ' ' + \n",
    "        movie_dt['director_names'].fillna('')\n",
    "    )\n",
    "    tfidf_matrix = tfidf.transform(movie_dt['combined_features'])\n",
    "\n",
    "    # 사용자 프로필과 영화 간 코사인 유사도 계산\n",
    "    cosine_sim = cosine_similarity(user_profile.reshape(1, -1), tfidf_matrix).flatten()\n",
    "\n",
    "    # 사용자가 평가한 영화들의 개봉연도 가져오기\n",
    "    user_rated_movies = rating_dt[rating_dt['userId'] == user_id]['tmdbId'].values\n",
    "    rated_movie_years = movie_dt[movie_dt['id'].isin(user_rated_movies)]['release_year'].values\n",
    "\n",
    "    # 영화 코사인 유사도 계산 + 개봉연도 가중치 부여\n",
    "    movie_scores_with_bonus = []\n",
    "    similarity_scores=[]\n",
    "    for idx, predicted_rating in enumerate(cosine_sim):\n",
    "        if idx < len(movie_dt):\n",
    "            movie_id = movie_dt.iloc[idx]['id']\n",
    "            movie_year = movie_dt.iloc[idx]['release_year']\n",
    "\n",
    "            # 개봉연도 가중치 계산\n",
    "            if len(rated_movie_years) > 0:\n",
    "                date_diff = np.mean([abs(movie_year - rated_year) for rated_year in rated_movie_years])\n",
    "                proximity_bonus = 1 / (1 + date_diff)\n",
    "            else:\n",
    "                proximity_bonus = 0\n",
    "\n",
    "            # 최종 점수 계산\n",
    "            total_score = predicted_rating + bonus_weight * proximity_bonus\n",
    "            movie_scores_with_bonus.append((movie_id, total_score))\n",
    "\n",
    "    \n",
    "     # 최종 점수 기준으로 상위 10개의 영화 출력\n",
    "    top_10_movies = sorted(movie_scores_with_bonus, key=lambda x: x[1], reverse=True)[:10]  # 상위 10개 점수\n",
    "    \n",
    "    print(\"상위 10개 최종점수를 가진 영화:\")\n",
    "    for movie_id, total_score in top_10_movies:\n",
    "        movie_title = movie_dt[movie_dt['id'] == movie_id]['title'].values[0]\n",
    "        print(f\"영화 ID {movie_id} ({movie_title}): 최종점수 {total_score}\")\n",
    "        \n",
    "    # 영화 추천 결과 정렬 후 상위 추천 영화 선택\n",
    "    top_recommendations = sorted(movie_scores_with_bonus, key=lambda x: x[1], reverse=True)[:num_recommendations]\n",
    "    top_movie_ids = [rec[0] for rec in top_recommendations]\n",
    "    recommended_movies = movie_dt[movie_dt['id'].isin(top_movie_ids)]['title']\n",
    "    recommended_ratings = [rec[1] for rec in top_recommendations]\n",
    "\n",
    "    return recommended_movies, recommended_ratings\n"
   ]
  },
  {
   "cell_type": "code",
   "execution_count": 46,
   "id": "a687ccdd-5aed-49bb-8395-c5ae8bdb0e04",
   "metadata": {},
   "outputs": [
    {
     "name": "stdout",
     "output_type": "stream",
     "text": [
      "상위 10개 최종점수를 가진 영화:\n",
      "영화 ID 240 (The Godfather Part II): 최종점수 0.5358444867659927\n",
      "영화 ID 769 (GoodFellas): 최종점수 0.5204146786891571\n",
      "영화 ID 238 (The Godfather): 최종점수 0.5191137935956762\n",
      "영화 ID 155 (The Dark Knight): 최종점수 0.49218792277486334\n",
      "영화 ID 1924 (Superman): 최종점수 0.4873459466008354\n",
      "영화 ID 324668 (Jason Bourne): 최종점수 0.4849864699650138\n",
      "영화 ID 49026 (The Dark Knight Rises): 최종점수 0.4838078840784604\n",
      "영화 ID 2897 (Around the World in Eighty Days): 최종점수 0.48143092123696785\n",
      "영화 ID 10410 (Hoffa): 최종점수 0.48126723132206917\n",
      "영화 ID 80585 (Rock of Ages): 최종점수 0.47640576688152325\n",
      "User 50에게 추천된 영화:\n",
      " 1608                GoodFellas\n",
      "15586          The Dark Knight\n",
      "35061                 Superman\n",
      "36393    The Godfather Part II\n",
      "36843            The Godfather\n",
      "Name: title, dtype: object [0.5358444867659927, 0.5204146786891571, 0.5191137935956762, 0.49218792277486334, 0.4873459466008354]\n"
     ]
    }
   ],
   "source": [
    "user_id = 50\n",
    "num_recommendations = 5\n",
    "bonus_weight=0.1\n",
    "recommended_movies, recommended_ratings = content_based_recommendation(user_id, movie_dt, rating_dt, num_recommendations, bonus_weight)\n",
    "\n",
    "print(f\"User {user_id}에게 추천된 영화:\\n\", recommended_movies, recommended_ratings)"
   ]
  }
 ],
 "metadata": {
  "kernelspec": {
   "display_name": "Python 3 (ipykernel)",
   "language": "python",
   "name": "python3"
  },
  "language_info": {
   "codemirror_mode": {
    "name": "ipython",
    "version": 3
   },
   "file_extension": ".py",
   "mimetype": "text/x-python",
   "name": "python",
   "nbconvert_exporter": "python",
   "pygments_lexer": "ipython3",
   "version": "3.10.11"
  }
 },
 "nbformat": 4,
 "nbformat_minor": 5
}
