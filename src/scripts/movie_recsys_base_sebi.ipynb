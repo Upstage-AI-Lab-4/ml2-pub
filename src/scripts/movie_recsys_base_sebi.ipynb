{
 "cells": [
  {
   "cell_type": "code",
   "execution_count": 1,
   "metadata": {},
   "outputs": [],
   "source": [
    "# visualization\n",
    "import matplotlib.pyplot as plt\n",
    "import matplotlib.font_manager as fm\n",
    "fe = fm.FontEntry(\n",
    "    fname=r'../resources/fonts/NanumGothic.ttf', # ttf 파일이 저장되어 있는 경로\n",
    "    name='NanumGothic')                        # 이 폰트의 원하는 이름 설정\n",
    "fm.fontManager.ttflist.insert(0, fe)              # Matplotlib에 폰트 추가\n",
    "plt.rcParams.update({'font.size': 10, 'font.family': 'NanumGothic'}) # 폰트 설정\n",
    "plt.rc('font', family='NanumGothic')\n",
    "import seaborn as sns\n",
    "import ast\n",
    "\n",
    "# utils\n",
    "import pandas as pd\n",
    "import numpy as np\n",
    "from tqdm import tqdm\n",
    "import pickle\n",
    "import warnings;warnings.filterwarnings('ignore')\n",
    "\n",
    "from sklearn.metrics.pairwise import cosine_similarity "
   ]
  },
  {
   "cell_type": "code",
   "execution_count": 2,
   "metadata": {},
   "outputs": [],
   "source": [
    "# 필요한 데이터를 load 하겠습니다. 경로는 환경에 맞게 지정해주면 됩니다.\n",
    "movie_path = '../datasets/movies_metadata.csv'\n",
    "rating_path = '../datasets/ratings_small.csv'\n",
    "\n",
    "movie_dt = pd.read_csv(movie_path)\n",
    "rating_dt = pd.read_csv(rating_path)"
   ]
  },
  {
   "cell_type": "code",
   "execution_count": 3,
   "metadata": {},
   "outputs": [
    {
     "data": {
      "text/plain": [
       "(45466, 24)"
      ]
     },
     "execution_count": 3,
     "metadata": {},
     "output_type": "execute_result"
    }
   ],
   "source": [
    "movie_dt.shape"
   ]
  },
  {
   "cell_type": "code",
   "execution_count": 4,
   "metadata": {},
   "outputs": [
    {
     "name": "stdout",
     "output_type": "stream",
     "text": [
      "Index(['adult', 'budget', 'genres', 'id', 'imdb_id', 'original_language',\n",
      "       'original_title', 'popularity', 'production_companies',\n",
      "       'production_countries', 'release_date', 'revenue', 'runtime', 'title',\n",
      "       'video', 'vote_average', 'vote_count'],\n",
      "      dtype='object')\n"
     ]
    }
   ],
   "source": [
    "#결측치가 35,000개 이상인건 의미없다고 판단 (영화가 45,000개인데 35,000개면 75% 결측)\n",
    "drop_column_list = list(movie_dt.columns[movie_dt.isnull().sum()<=35000])\n",
    "movie_dt = movie_dt[drop_column_list]\n",
    "\n",
    "#status가 released가 아닌 영화들은 볼수 없으니 제외\n",
    "#데이터셋이 과거의 자료여서 post production, In Production 등 production중인 영화들은 이미 개봉했을 수 있지만\n",
    "#무비 데이터를 최신으로 변경하기 전까지는 현재 데이터셋에선 우선 제거하는걸로\n",
    "movie_dt = movie_dt[movie_dt['status'] == 'Released'].dropna(subset=['status'])\n",
    "\n",
    "#지금단계에서 필요없어보이는 column 제거\n",
    "movie_dt = movie_dt.drop(['overview', 'poster_path', 'tagline', 'status', 'spoken_languages'], axis=1)\n",
    "\n",
    "# 최종적으로 남은 열 확인\n",
    "remaining_columns = movie_dt.columns\n",
    "print(remaining_columns)"
   ]
  },
  {
   "cell_type": "code",
   "execution_count": 5,
   "metadata": {},
   "outputs": [],
   "source": [
    "movie_dt['popularity'] = movie_dt['popularity'].astype(float)"
   ]
  },
  {
   "cell_type": "code",
   "execution_count": 6,
   "metadata": {},
   "outputs": [],
   "source": [
    "def extract_genre_names(genres_string):\n",
    "    genres_list = ast.literal_eval(genres_string)  # 문자열을 파이썬 객체로 변환\n",
    "    genre_names = [genre['name'] for genre in genres_list]  # 이름만 추출\n",
    "    return ', '.join(genre_names)  # 쉼표로 연결\n",
    "\n",
    "# 새로운 열 추가\n",
    "movie_dt['genre_names'] = movie_dt['genres'].apply(extract_genre_names)"
   ]
  },
  {
   "cell_type": "code",
   "execution_count": 7,
   "metadata": {},
   "outputs": [
    {
     "name": "stdout",
     "output_type": "stream",
     "text": [
      "                         title  \\\n",
      "0                    Toy Story   \n",
      "1                      Jumanji   \n",
      "2             Grumpier Old Men   \n",
      "3            Waiting to Exhale   \n",
      "4  Father of the Bride Part II   \n",
      "\n",
      "                                              genres  \\\n",
      "0  [{'id': 16, 'name': 'Animation'}, {'id': 35, '...   \n",
      "1  [{'id': 12, 'name': 'Adventure'}, {'id': 14, '...   \n",
      "2  [{'id': 10749, 'name': 'Romance'}, {'id': 35, ...   \n",
      "3  [{'id': 35, 'name': 'Comedy'}, {'id': 18, 'nam...   \n",
      "4                     [{'id': 35, 'name': 'Comedy'}]   \n",
      "\n",
      "                  genre_names  \n",
      "0   Animation, Comedy, Family  \n",
      "1  Adventure, Fantasy, Family  \n",
      "2             Romance, Comedy  \n",
      "3      Comedy, Drama, Romance  \n",
      "4                      Comedy  \n"
     ]
    }
   ],
   "source": [
    "# 새로운 열이 제대로 추가되었는지 상위 5개의 데이터를 확인\n",
    "print(movie_dt[['title', 'genres', 'genre_names']].head())"
   ]
  },
  {
   "cell_type": "code",
   "execution_count": null,
   "metadata": {},
   "outputs": [],
   "source": []
  },
  {
   "cell_type": "code",
   "execution_count": null,
   "metadata": {},
   "outputs": [],
   "source": []
  },
  {
   "cell_type": "code",
   "execution_count": null,
   "metadata": {},
   "outputs": [],
   "source": []
  },
  {
   "cell_type": "markdown",
   "metadata": {},
   "source": [
    "## 신규 유저"
   ]
  },
  {
   "cell_type": "code",
   "execution_count": 8,
   "metadata": {},
   "outputs": [
    {
     "name": "stdout",
     "output_type": "stream",
     "text": [
      "입력한 userId(789)는 존재하지 않습니다. 새로 userId를 부여합니다.\n",
      "부여된 userId는 672입니다.\n"
     ]
    }
   ],
   "source": [
    "# 기존 유저인지 신규 유저인지 판별하는 함수\n",
    "def check_user(user_id, rating_dt):\n",
    "    if user_id in rating_dt['userId'].unique():\n",
    "        return \"existing\"\n",
    "    else:\n",
    "        return \"new\"\n",
    "\n",
    "# 신규 유저에게 userId 부여\n",
    "def make_new_userId(rating_dt):\n",
    "    return rating_dt['userId'].max() + 1\n",
    "\n",
    "# 사용자 입력 받기\n",
    "def get_user_id(rating_dt):\n",
    "    user_input = input(\"본인의 userId를 입력하세요 (신규 유저일 경우 'new'를 입력하세요): \")\n",
    "\n",
    "    # 기존 유저인지 신규 유저인지 판별\n",
    "    if user_input.lower() == 'new':\n",
    "        user_id = make_new_userId(rating_dt)\n",
    "        print(f\"신규 유저입니다. 부여된 userId는 {user_id}입니다.\")\n",
    "    else:\n",
    "        user_id = int(user_input)\n",
    "        user_type = check_user(user_id, rating_dt)\n",
    "        if user_type == \"existing\":\n",
    "            print(f\"기존 유저입니다. userId는 {user_id}입니다.\")\n",
    "        else:\n",
    "            print(f\"입력한 userId({user_id})는 존재하지 않습니다. 새로 userId를 부여합니다.\")\n",
    "            user_id = make_new_userId(rating_dt)\n",
    "            print(f\"부여된 userId는 {user_id}입니다.\")\n",
    "    \n",
    "    return user_id\n",
    "\n",
    "\n",
    "# user_id 값 결정 및 저장\n",
    "user_id = get_user_id(rating_dt)\n"
   ]
  },
  {
   "cell_type": "code",
   "execution_count": null,
   "metadata": {},
   "outputs": [],
   "source": []
  },
  {
   "cell_type": "code",
   "execution_count": null,
   "metadata": {},
   "outputs": [],
   "source": []
  },
  {
   "cell_type": "code",
   "execution_count": null,
   "metadata": {},
   "outputs": [],
   "source": []
  },
  {
   "cell_type": "markdown",
   "metadata": {},
   "source": [
    "## Cold start\n",
    "\n",
    "- 20개 장르 중 5개 장르 선택\n",
    "- 20개의 영화 중 5개 영화 선택\n",
    "\n",
    "\n",
    "- 재미있게 본 영화 평점 4점 책정\n",
    "\n",
    "- ratings_small.csv에 새 유저의 userId, movieId, rating 추가\n",
    "- 기존 유저화 되면서 기존 유저와 동일하게 추천 시스템 적용"
   ]
  },
  {
   "cell_type": "code",
   "execution_count": 9,
   "metadata": {},
   "outputs": [
    {
     "name": "stdout",
     "output_type": "stream",
     "text": [
      "20개의 장르 중 5개를 선택하세요. (쉼표로 구분)\n",
      "['Animation', 'Comedy', 'Family', 'Adventure', 'Fantasy', 'Romance', 'Drama', 'Action', 'Crime', 'Thriller', 'Horror', 'History', 'Science Fiction', 'Mystery', 'War', 'Foreign', 'Music', 'Documentary', 'Western', 'TV Movie']\n"
     ]
    }
   ],
   "source": [
    "# ','로 구분된 장르를 개별적으로 추출하여 리스트로 변환\n",
    "unique_genres = movie_dt['genre_names'].dropna().str.split(', ').explode().unique()\n",
    "\n",
    "# 빈 문자열('')을 제외\n",
    "unique_genres = [genre for genre in unique_genres if genre != '']\n",
    "\n",
    "# 사용자로부터 장르 입력 받기\n",
    "\n",
    "print(\"20개의 장르 중 5개를 선택하세요. (쉼표로 구분)\")\n",
    "print(unique_genres)\n"
   ]
  },
  {
   "cell_type": "code",
   "execution_count": 13,
   "metadata": {},
   "outputs": [
    {
     "name": "stdout",
     "output_type": "stream",
     "text": [
      "선택된 장르: ['']\n",
      "\n",
      "추천 영화 목록 (상위 20개):\n",
      "14551                                           Avatar\n",
      "26555                     Star Wars: The Force Awakens\n",
      "1639                                           Titanic\n",
      "17818                                     The Avengers\n",
      "25084                                   Jurassic World\n",
      "28830                                        Furious 7\n",
      "26558                          Avengers: Age of Ultron\n",
      "17437     Harry Potter and the Deathly Hallows: Part 2\n",
      "22110                                           Frozen\n",
      "42222                             Beauty and the Beast\n",
      "43255                          The Fate of the Furious\n",
      "20830                                       Iron Man 3\n",
      "30700                                          Minions\n",
      "26567                       Captain America: Civil War\n",
      "17293                   Transformers: Dark of the Moon\n",
      "7000     The Lord of the Rings: The Return of the King\n",
      "19261                                          Skyfall\n",
      "23617                  Transformers: Age of Extinction\n",
      "18252                            The Dark Knight Rises\n",
      "15348                                      Toy Story 3\n",
      "Name: title, dtype: object\n"
     ]
    }
   ],
   "source": [
    "user_input = input(\"선택한 장르를 입력하세요 (예: Action, Drama, Comedy, War, History): \")\n",
    "\n",
    "# Step 5: 입력값 처리 (쉼표로 구분하여 리스트로 변환)\n",
    "selected_genres = [genre.strip() for genre in user_input.split(',')]\n",
    "\n",
    "# Step 6: 선택된 장르를 출력\n",
    "print(f\"선택된 장르: {selected_genres}\")\n",
    "\n",
    "# Step 7: 선택된 장르에 해당하는 영화 필터링 함수 정의\n",
    "def filter_movies_by_genres(movie_metadata, selected_genres):\n",
    "    return movie_metadata[movie_metadata['genre_names'].apply(lambda x: any(genre in x for genre in selected_genres))]\n",
    "\n",
    "# Step 8: 선택된 장르에 해당하는 영화 필터링\n",
    "filtered_movies = filter_movies_by_genres(movie_dt, selected_genres)\n",
    "\n",
    "# Step 9: revenue 기준으로 내림차순 정렬하여 상위 20개 추천\n",
    "top_movies_by_revenue = filtered_movies.nlargest(20, 'revenue')\n",
    "\n",
    "\n",
    "# Step 10: 결과 확인\n",
    "# print(top_movies_by_revenue[['title', 'genre_names', 'revenue']])\n",
    "\n",
    "# Step 10: 결과 확인 - 영화 제목 결과\n",
    "print(\"\\n추천 영화 목록 (상위 20개):\")\n",
    "print(top_movies_by_revenue['title'])\n"
   ]
  },
  {
   "cell_type": "code",
   "execution_count": 14,
   "metadata": {},
   "outputs": [
    {
     "name": "stdout",
     "output_type": "stream",
     "text": [
      "선택된 영화: ['7000', '17293', '30700']\n"
     ]
    }
   ],
   "source": [
    "# Step 1: 사용자로부터 선택한 영화를 입력받기\n",
    "user_input = input(\"재미있게 본 영화 ID를 선택하세요 (쉼표로 구분): \")\n",
    "\n",
    "# Step 2: 입력값 처리 (쉼표로 구분하여 리스트로 변환)\n",
    "selected_movies = [movie.strip() for movie in user_input.split(',')]\n",
    "print(f\"선택된 영화: {selected_movies}\")"
   ]
  },
  {
   "cell_type": "code",
   "execution_count": 15,
   "metadata": {},
   "outputs": [
    {
     "name": "stdout",
     "output_type": "stream",
     "text": [
      "\n",
      "유저의 평점이 성공적으로 추가되었습니다.\n"
     ]
    }
   ],
   "source": [
    "# 신규 유저 ID 부여 (가정: rating_dt['userId'].max() + 1)\n",
    "\n",
    "# 선택된 영화에 평점 4점 부여\n",
    "new_rating = []\n",
    "for movie_id in selected_movies:\n",
    "    new_rating.append([user_id, movie_id, 4.0])  # 평점은 4점으로 고정\n",
    "\n",
    "# 새로 추가할 rating 데이터프레임 생성\n",
    "new_rating_dt = pd.DataFrame(new_rating, columns=['userId', 'movieId', 'rating'])\n",
    "\n",
    "# 기존 ratings 데이터프레임 불러오기 \n",
    "rating_dt = pd.read_csv(rating_path)\n",
    "\n",
    "# 기존 ratings 데이터프레임에 신규 유저의 평점 추가\n",
    "rating_dt = pd.concat([rating_dt, new_rating_dt], ignore_index=True)\n",
    "\n",
    "# Step 4: 업데이트된 ratings 데이터를 CSV 파일로 저장\n",
    "rating_dt.to_csv('ratings_small_updated.csv', index=False)\n",
    "\n",
    "print(\"\\n유저의 평점이 성공적으로 추가되었습니다.\")"
   ]
  },
  {
   "cell_type": "code",
   "execution_count": null,
   "metadata": {},
   "outputs": [],
   "source": []
  },
  {
   "cell_type": "code",
   "execution_count": null,
   "metadata": {},
   "outputs": [],
   "source": []
  },
  {
   "cell_type": "code",
   "execution_count": null,
   "metadata": {},
   "outputs": [],
   "source": []
  },
  {
   "cell_type": "markdown",
   "metadata": {},
   "source": [
    "## 모델 학습"
   ]
  },
  {
   "cell_type": "code",
   "execution_count": 16,
   "metadata": {},
   "outputs": [],
   "source": [
    "from implicit.als import AlternatingLeastSquares\n",
    "from scipy.sparse import csr_matrix\n",
    "\n",
    "# userId와 movieId를 정수형으로 변환\n",
    "rating_dt['userId'] = rating_dt['userId'].astype(int)\n",
    "rating_dt['movieId'] = rating_dt['movieId'].astype(int)\n",
    "\n",
    "# CSR 형식으로 변환\n",
    "user_item_matrix = csr_matrix((rating_dt['rating'], (rating_dt['userId'], rating_dt['movieId'])))\n",
    "\n"
   ]
  },
  {
   "cell_type": "code",
   "execution_count": 17,
   "metadata": {},
   "outputs": [
    {
     "data": {
      "application/vnd.jupyter.widget-view+json": {
       "model_id": "b577908357e64da495a68e86551aa83f",
       "version_major": 2,
       "version_minor": 0
      },
      "text/plain": [
       "  0%|          | 0/20 [00:00<?, ?it/s]"
      ]
     },
     "metadata": {},
     "output_type": "display_data"
    }
   ],
   "source": [
    "\n",
    "# ALS 모델 초기화\n",
    "model = AlternatingLeastSquares(factors=10, regularization=0.1, iterations=20)\n",
    "# 모델 학습\n",
    "model.fit(user_item_matrix)\n"
   ]
  },
  {
   "cell_type": "code",
   "execution_count": 18,
   "metadata": {},
   "outputs": [],
   "source": [
    "#유저 아이디를 입력하면 다섯개의 추천 목록을 뽑아준다.\n",
    "def recommend_movie_by_als(user_id, n_movies=5):\n",
    "    recommendations = model.recommend(user_id, user_item_matrix[user_id], N=n_movies)\n",
    "    for ids in recommendations[0]:\n",
    "        movie_title = movie_dt.loc[movie_dt.index == ids, 'title'].values\n",
    "        print(movie_title)\n",
    "    return\n",
    "    "
   ]
  },
  {
   "cell_type": "code",
   "execution_count": 19,
   "metadata": {},
   "outputs": [
    {
     "name": "stdout",
     "output_type": "stream",
     "text": [
      "['The American President']\n",
      "['Vanya on 42nd Street']\n",
      "['Blue in the Face']\n",
      "['The Browning Version']\n",
      "['Silver Bullet']\n"
     ]
    }
   ],
   "source": [
    "recommend_movie_by_als(672)"
   ]
  },
  {
   "cell_type": "code",
   "execution_count": null,
   "metadata": {},
   "outputs": [],
   "source": []
  },
  {
   "cell_type": "code",
   "execution_count": null,
   "metadata": {},
   "outputs": [],
   "source": []
  },
  {
   "cell_type": "code",
   "execution_count": null,
   "metadata": {},
   "outputs": [],
   "source": []
  }
 ],
 "metadata": {
  "kernelspec": {
   "display_name": "Python 3",
   "language": "python",
   "name": "python3"
  },
  "language_info": {
   "codemirror_mode": {
    "name": "ipython",
    "version": 3
   },
   "file_extension": ".py",
   "mimetype": "text/x-python",
   "name": "python",
   "nbconvert_exporter": "python",
   "pygments_lexer": "ipython3",
   "version": "3.12.3"
  }
 },
 "nbformat": 4,
 "nbformat_minor": 2
}
