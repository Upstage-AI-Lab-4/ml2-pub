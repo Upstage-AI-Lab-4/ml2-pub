{
 "cells": [
  {
   "cell_type": "code",
   "execution_count": 47,
   "id": "a5cb6d00-95da-42ae-9d94-5e3e1e9b0270",
   "metadata": {},
   "outputs": [],
   "source": [
    "# visualization\n",
    "import matplotlib.pyplot as plt\n",
    "import matplotlib.font_manager as fm\n",
    "fe = fm.FontEntry(\n",
    "    fname=r'../resources/fonts/NanumGothic.ttf', # ttf 파일이 저장되어 있는 경로\n",
    "    name='NanumGothic')                        # 이 폰트의 원하는 이름 설정\n",
    "fm.fontManager.ttflist.insert(0, fe)              # Matplotlib에 폰트 추가\n",
    "plt.rcParams.update({'font.size': 10, 'font.family': 'NanumGothic'}) # 폰트 설정\n",
    "plt.rc('font', family='NanumGothic')\n",
    "import seaborn as sns\n",
    "import ast\n",
    "\n",
    "# utils\n",
    "import pandas as pd\n",
    "import numpy as np\n",
    "from tqdm import tqdm\n",
    "import pickle\n",
    "import warnings;warnings.filterwarnings('ignore')\n",
    "\n",
    "from sklearn.metrics.pairwise import cosine_similarity\n",
    "from sklearn.feature_extraction.text import CountVectorizer\n",
    "from sklearn.ensemble import IsolationForest\n",
    "from sklearn.decomposition import TruncatedSVD"
   ]
  },
  {
   "cell_type": "code",
   "execution_count": 48,
   "id": "7ace3998-8a60-4b15-8e87-a3e34a9d9167",
   "metadata": {},
   "outputs": [],
   "source": [
    "# 필요한 데이터 load\n",
    "movie_path = r'C:\\Users\\subon\\Upstage\\ml-project-ml-pjt-2\\src\\resources\\movies_metadata.csv'\n",
    "rating_path = r'C:\\Users\\subon\\Upstage\\ml-project-ml-pjt-2\\src\\resources\\ratings_small.csv'\n",
    "credit_path = r'C:\\Users\\subon\\Upstage\\ml-project-ml-pjt-2\\src\\resources\\credits.csv'\n",
    "movie_dt = pd.read_csv(movie_path)\n",
    "rating_dt = pd.read_csv(rating_path)\n",
    "credit_dt = pd.read_csv(credit_path)"
   ]
  },
  {
   "cell_type": "code",
   "execution_count": 49,
   "id": "13b998e9-1aeb-4956-b589-ea49dbf0bd43",
   "metadata": {},
   "outputs": [
    {
     "data": {
      "text/plain": [
       "(45466, 24)"
      ]
     },
     "execution_count": 49,
     "metadata": {},
     "output_type": "execute_result"
    }
   ],
   "source": [
    "movie_dt.shape"
   ]
  },
  {
   "cell_type": "code",
   "execution_count": 50,
   "id": "4a22b0fa-da6a-4de2-94f2-4a941ed3bb66",
   "metadata": {},
   "outputs": [
    {
     "data": {
      "text/plain": [
       "adult                        0\n",
       "belongs_to_collection    40972\n",
       "budget                       0\n",
       "genres                       0\n",
       "homepage                 37684\n",
       "id                           0\n",
       "imdb_id                     17\n",
       "original_language           11\n",
       "original_title               0\n",
       "overview                   954\n",
       "popularity                   5\n",
       "poster_path                386\n",
       "production_companies         3\n",
       "production_countries         3\n",
       "release_date                87\n",
       "revenue                      6\n",
       "runtime                    263\n",
       "spoken_languages             6\n",
       "status                      87\n",
       "tagline                  25054\n",
       "title                        6\n",
       "video                        6\n",
       "vote_average                 6\n",
       "vote_count                   6\n",
       "dtype: int64"
      ]
     },
     "execution_count": 50,
     "metadata": {},
     "output_type": "execute_result"
    }
   ],
   "source": [
    "#결측치 확인\n",
    "movie_dt.isnull().sum()"
   ]
  },
  {
   "cell_type": "code",
   "execution_count": 51,
   "id": "2f4f88c5-7334-456f-81dd-6756517f87e6",
   "metadata": {},
   "outputs": [
    {
     "data": {
      "text/plain": [
       "userId       0\n",
       "movieId      0\n",
       "rating       0\n",
       "timestamp    0\n",
       "dtype: int64"
      ]
     },
     "execution_count": 51,
     "metadata": {},
     "output_type": "execute_result"
    }
   ],
   "source": [
    "rating_dt.isnull().sum()"
   ]
  },
  {
   "cell_type": "code",
   "execution_count": 52,
   "id": "1dc0addd-b2d5-4875-8009-bb24fb869ce3",
   "metadata": {},
   "outputs": [
    {
     "data": {
      "text/plain": [
       "cast    0\n",
       "crew    0\n",
       "id      0\n",
       "dtype: int64"
      ]
     },
     "execution_count": 52,
     "metadata": {},
     "output_type": "execute_result"
    }
   ],
   "source": [
    "credit_dt.isnull().sum()"
   ]
  },
  {
   "cell_type": "code",
   "execution_count": 154,
   "id": "924d5f65-7b4d-4dcd-b1ae-6f233f5d8a89",
   "metadata": {},
   "outputs": [
    {
     "data": {
      "text/html": [
       "<div>\n",
       "<style scoped>\n",
       "    .dataframe tbody tr th:only-of-type {\n",
       "        vertical-align: middle;\n",
       "    }\n",
       "\n",
       "    .dataframe tbody tr th {\n",
       "        vertical-align: top;\n",
       "    }\n",
       "\n",
       "    .dataframe thead th {\n",
       "        text-align: right;\n",
       "    }\n",
       "</style>\n",
       "<table border=\"1\" class=\"dataframe\">\n",
       "  <thead>\n",
       "    <tr style=\"text-align: right;\">\n",
       "      <th></th>\n",
       "      <th>genres</th>\n",
       "      <th>id</th>\n",
       "      <th>original_language</th>\n",
       "      <th>popularity</th>\n",
       "      <th>release_date</th>\n",
       "      <th>status</th>\n",
       "      <th>title</th>\n",
       "      <th>vote_average</th>\n",
       "      <th>actor_names_x</th>\n",
       "      <th>director_names_x</th>\n",
       "      <th>actor_names_y</th>\n",
       "      <th>director_names_y</th>\n",
       "      <th>movieId</th>\n",
       "    </tr>\n",
       "  </thead>\n",
       "  <tbody>\n",
       "    <tr>\n",
       "      <th>0</th>\n",
       "      <td>Animation, Comedy, Family</td>\n",
       "      <td>862</td>\n",
       "      <td>en</td>\n",
       "      <td>21.946943</td>\n",
       "      <td>1995-10-30</td>\n",
       "      <td>Released</td>\n",
       "      <td>Toy Story</td>\n",
       "      <td>7.7</td>\n",
       "      <td>Tom Hanks, Tim Allen, Don Rickles, Jim Varney,...</td>\n",
       "      <td>John Lasseter</td>\n",
       "      <td>Tom Hanks, Tim Allen, Don Rickles, Jim Varney,...</td>\n",
       "      <td>John Lasseter</td>\n",
       "      <td>1</td>\n",
       "    </tr>\n",
       "    <tr>\n",
       "      <th>1</th>\n",
       "      <td>Adventure, Fantasy, Family</td>\n",
       "      <td>8844</td>\n",
       "      <td>en</td>\n",
       "      <td>17.015539</td>\n",
       "      <td>1995-12-15</td>\n",
       "      <td>Released</td>\n",
       "      <td>Jumanji</td>\n",
       "      <td>6.9</td>\n",
       "      <td>Robin Williams, Jonathan Hyde, Kirsten Dunst, ...</td>\n",
       "      <td>Joe Johnston</td>\n",
       "      <td>Robin Williams, Jonathan Hyde, Kirsten Dunst, ...</td>\n",
       "      <td>Joe Johnston</td>\n",
       "      <td>2</td>\n",
       "    </tr>\n",
       "    <tr>\n",
       "      <th>2</th>\n",
       "      <td>Romance, Comedy</td>\n",
       "      <td>15602</td>\n",
       "      <td>en</td>\n",
       "      <td>11.712900</td>\n",
       "      <td>1995-12-22</td>\n",
       "      <td>Released</td>\n",
       "      <td>Grumpier Old Men</td>\n",
       "      <td>6.5</td>\n",
       "      <td>Walter Matthau, Jack Lemmon, Ann-Margret, Soph...</td>\n",
       "      <td>Howard Deutch</td>\n",
       "      <td>Walter Matthau, Jack Lemmon, Ann-Margret, Soph...</td>\n",
       "      <td>Howard Deutch</td>\n",
       "      <td>3</td>\n",
       "    </tr>\n",
       "  </tbody>\n",
       "</table>\n",
       "</div>"
      ],
      "text/plain": [
       "                       genres     id original_language  popularity  \\\n",
       "0   Animation, Comedy, Family    862                en   21.946943   \n",
       "1  Adventure, Fantasy, Family   8844                en   17.015539   \n",
       "2             Romance, Comedy  15602                en   11.712900   \n",
       "\n",
       "  release_date    status             title  vote_average  \\\n",
       "0   1995-10-30  Released         Toy Story           7.7   \n",
       "1   1995-12-15  Released           Jumanji           6.9   \n",
       "2   1995-12-22  Released  Grumpier Old Men           6.5   \n",
       "\n",
       "                                       actor_names_x director_names_x  \\\n",
       "0  Tom Hanks, Tim Allen, Don Rickles, Jim Varney,...    John Lasseter   \n",
       "1  Robin Williams, Jonathan Hyde, Kirsten Dunst, ...     Joe Johnston   \n",
       "2  Walter Matthau, Jack Lemmon, Ann-Margret, Soph...    Howard Deutch   \n",
       "\n",
       "                                       actor_names_y director_names_y  movieId  \n",
       "0  Tom Hanks, Tim Allen, Don Rickles, Jim Varney,...    John Lasseter        1  \n",
       "1  Robin Williams, Jonathan Hyde, Kirsten Dunst, ...     Joe Johnston        2  \n",
       "2  Walter Matthau, Jack Lemmon, Ann-Margret, Soph...    Howard Deutch        3  "
      ]
     },
     "execution_count": 154,
     "metadata": {},
     "output_type": "execute_result"
    }
   ],
   "source": [
    "movie_dt.head(3)"
   ]
  },
  {
   "cell_type": "code",
   "execution_count": 155,
   "id": "2a45cd0b-388f-4d62-9e03-1360140e6226",
   "metadata": {},
   "outputs": [
    {
     "data": {
      "text/html": [
       "<div>\n",
       "<style scoped>\n",
       "    .dataframe tbody tr th:only-of-type {\n",
       "        vertical-align: middle;\n",
       "    }\n",
       "\n",
       "    .dataframe tbody tr th {\n",
       "        vertical-align: top;\n",
       "    }\n",
       "\n",
       "    .dataframe thead th {\n",
       "        text-align: right;\n",
       "    }\n",
       "</style>\n",
       "<table border=\"1\" class=\"dataframe\">\n",
       "  <thead>\n",
       "    <tr style=\"text-align: right;\">\n",
       "      <th></th>\n",
       "      <th>cast</th>\n",
       "      <th>crew</th>\n",
       "      <th>id</th>\n",
       "      <th>actor_names</th>\n",
       "      <th>director_names</th>\n",
       "    </tr>\n",
       "  </thead>\n",
       "  <tbody>\n",
       "    <tr>\n",
       "      <th>0</th>\n",
       "      <td>[{'cast_id': 14, 'character': 'Woody (voice)',...</td>\n",
       "      <td>[{'credit_id': '52fe4284c3a36847f8024f49', 'de...</td>\n",
       "      <td>862</td>\n",
       "      <td>Tom Hanks, Tim Allen, Don Rickles, Jim Varney,...</td>\n",
       "      <td>John Lasseter</td>\n",
       "    </tr>\n",
       "    <tr>\n",
       "      <th>1</th>\n",
       "      <td>[{'cast_id': 1, 'character': 'Alan Parrish', '...</td>\n",
       "      <td>[{'credit_id': '52fe44bfc3a36847f80a7cd1', 'de...</td>\n",
       "      <td>8844</td>\n",
       "      <td>Robin Williams, Jonathan Hyde, Kirsten Dunst, ...</td>\n",
       "      <td>Joe Johnston</td>\n",
       "    </tr>\n",
       "    <tr>\n",
       "      <th>2</th>\n",
       "      <td>[{'cast_id': 2, 'character': 'Max Goldman', 'c...</td>\n",
       "      <td>[{'credit_id': '52fe466a9251416c75077a89', 'de...</td>\n",
       "      <td>15602</td>\n",
       "      <td>Walter Matthau, Jack Lemmon, Ann-Margret, Soph...</td>\n",
       "      <td>Howard Deutch</td>\n",
       "    </tr>\n",
       "  </tbody>\n",
       "</table>\n",
       "</div>"
      ],
      "text/plain": [
       "                                                cast  \\\n",
       "0  [{'cast_id': 14, 'character': 'Woody (voice)',...   \n",
       "1  [{'cast_id': 1, 'character': 'Alan Parrish', '...   \n",
       "2  [{'cast_id': 2, 'character': 'Max Goldman', 'c...   \n",
       "\n",
       "                                                crew     id  \\\n",
       "0  [{'credit_id': '52fe4284c3a36847f8024f49', 'de...    862   \n",
       "1  [{'credit_id': '52fe44bfc3a36847f80a7cd1', 'de...   8844   \n",
       "2  [{'credit_id': '52fe466a9251416c75077a89', 'de...  15602   \n",
       "\n",
       "                                         actor_names director_names  \n",
       "0  Tom Hanks, Tim Allen, Don Rickles, Jim Varney,...  John Lasseter  \n",
       "1  Robin Williams, Jonathan Hyde, Kirsten Dunst, ...   Joe Johnston  \n",
       "2  Walter Matthau, Jack Lemmon, Ann-Margret, Soph...  Howard Deutch  "
      ]
     },
     "execution_count": 155,
     "metadata": {},
     "output_type": "execute_result"
    }
   ],
   "source": [
    "credit_dt.head(3)"
   ]
  },
  {
   "cell_type": "code",
   "execution_count": null,
   "id": "02ba1fc7-92d2-4e24-b4d5-35976efa730a",
   "metadata": {
    "scrolled": true
   },
   "outputs": [],
   "source": []
  },
  {
   "cell_type": "markdown",
   "id": "d6208121-f948-49a0-8e0b-ceaeb5129096",
   "metadata": {},
   "source": [
    "## 필요한 정보만 남기기"
   ]
  },
  {
   "cell_type": "code",
   "execution_count": 56,
   "id": "a5cdc359-fac3-4b1c-a2b4-517182e2825e",
   "metadata": {},
   "outputs": [],
   "source": [
    "#필요한 컬럼만 선택\n",
    "selected_columns = ['genres', 'id', 'original_language', 'popularity', 'release_date', \n",
    "                    'status', 'title', 'vote_average']\n",
    "movie_dt= movie_dt[selected_columns]"
   ]
  },
  {
   "cell_type": "code",
   "execution_count": 57,
   "id": "9611d73f-4bda-4057-883f-504de323ee57",
   "metadata": {},
   "outputs": [],
   "source": [
    "#status가 released가 아닌 영화들 제외\n",
    "movie_dt = movie_dt[movie_dt['status'] == 'Released'].dropna(subset=['status'])\n",
    "\n",
    "#popularity 데이터타입 변환\n",
    "movie_dt['popularity'] = movie_dt['popularity'].astype(float)"
   ]
  },
  {
   "cell_type": "code",
   "execution_count": 58,
   "id": "496629af-f2d8-42e5-bef5-cc40884acfb5",
   "metadata": {},
   "outputs": [
    {
     "name": "stdout",
     "output_type": "stream",
     "text": [
      "object\n",
      "0    [{'id': 16, 'name': 'Animation'}, {'id': 35, '...\n",
      "1    [{'id': 12, 'name': 'Adventure'}, {'id': 14, '...\n",
      "2    [{'id': 10749, 'name': 'Romance'}, {'id': 35, ...\n",
      "3    [{'id': 35, 'name': 'Comedy'}, {'id': 18, 'nam...\n",
      "4                       [{'id': 35, 'name': 'Comedy'}]\n",
      "5    [{'id': 28, 'name': 'Action'}, {'id': 80, 'nam...\n",
      "6    [{'id': 35, 'name': 'Comedy'}, {'id': 10749, '...\n",
      "7    [{'id': 28, 'name': 'Action'}, {'id': 12, 'nam...\n",
      "8    [{'id': 28, 'name': 'Action'}, {'id': 12, 'nam...\n",
      "9    [{'id': 12, 'name': 'Adventure'}, {'id': 28, '...\n",
      "Name: genres, dtype: object\n"
     ]
    }
   ],
   "source": [
    "# genres 컬럼의 데이터 타입 및 일부 샘플 확인\n",
    "print(movie_dt['genres'].dtype)\n",
    "print(movie_dt['genres'].head(10))\n"
   ]
  },
  {
   "cell_type": "code",
   "execution_count": 59,
   "id": "f3992e55-1ae1-4192-bcda-c0e57dfd085d",
   "metadata": {},
   "outputs": [
    {
     "name": "stdout",
     "output_type": "stream",
     "text": [
      "0     Animation, Comedy, Family\n",
      "1    Adventure, Fantasy, Family\n",
      "2               Romance, Comedy\n",
      "3        Comedy, Drama, Romance\n",
      "4                        Comedy\n",
      "Name: genres, dtype: object\n"
     ]
    }
   ],
   "source": [
    "#장르 추출\n",
    "def extract_genre_names(genres_string):\n",
    "    try:\n",
    "        # 문자열일 때만 처리\n",
    "        if isinstance(genres_string, str):\n",
    "            genres_list = ast.literal_eval(genres_string)  # 문자열을 파이썬 객체로 변환\n",
    "            genre_names = [genre['name'] for genre in genres_list]  # 이름만 추출\n",
    "            return ', '.join(genre_names)\n",
    "        else:\n",
    "            return None  # 문자열이 아닌 경우 None 반환\n",
    "    except (ValueError, SyntaxError):\n",
    "        return None  # 변환에 실패하면 None 반환\n",
    "\n",
    "# 'genres' 컬럼에 적용하여 'name' 리스트만 저장\n",
    "movie_dt['genres'] = movie_dt['genres'].apply(extract_genre_names)\n",
    "\n",
    "# 결과 확인\n",
    "print(movie_dt['genres'].head())"
   ]
  },
  {
   "cell_type": "code",
   "execution_count": 60,
   "id": "3dcd51da-c2a1-44ae-accb-b8f5c1718035",
   "metadata": {},
   "outputs": [
    {
     "name": "stdout",
     "output_type": "stream",
     "text": [
      "                                         actor_names\n",
      "0  Tom Hanks, Tim Allen, Don Rickles, Jim Varney,...\n",
      "1  Robin Williams, Jonathan Hyde, Kirsten Dunst, ...\n",
      "2  Walter Matthau, Jack Lemmon, Ann-Margret, Soph...\n",
      "3  Whitney Houston, Angela Bassett, Loretta Devin...\n",
      "4  Steve Martin, Diane Keaton, Martin Short, Kimb...\n"
     ]
    }
   ],
   "source": [
    "#배우 추출\n",
    "def extract_actor_names(cast_str):\n",
    "    cast_list = ast.literal_eval(cast_str)\n",
    "    actor_names = [cast_member['name'] for cast_member in cast_list]\n",
    "    return ', '.join(actor_names)\n",
    "\n",
    "credit_dt['actor_names'] = credit_dt['cast'].apply(extract_actor_names)\n",
    "\n",
    "print(credit_dt[['actor_names']].head())"
   ]
  },
  {
   "cell_type": "code",
   "execution_count": 61,
   "id": "35c78deb-4211-4c00-a1fa-a04237e4bc13",
   "metadata": {},
   "outputs": [
    {
     "name": "stdout",
     "output_type": "stream",
     "text": [
      "    director_names\n",
      "0    John Lasseter\n",
      "1     Joe Johnston\n",
      "2    Howard Deutch\n",
      "3  Forest Whitaker\n",
      "4    Charles Shyer\n"
     ]
    }
   ],
   "source": [
    "#감독 추출\n",
    "def extract_director_names(crew_str):\n",
    "    crew_list = ast.literal_eval(crew_str)\n",
    "    director_names = [crew_member['name'] for crew_member in crew_list if crew_member['job'] == 'Director']\n",
    "    return ', '.join(director_names)\n",
    "\n",
    "credit_dt['director_names'] = credit_dt['crew'].apply(extract_director_names)\n",
    "\n",
    "print(credit_dt[['director_names']].head())"
   ]
  },
  {
   "cell_type": "code",
   "execution_count": null,
   "id": "c42111db-05c6-4321-8272-1cff30cfa295",
   "metadata": {},
   "outputs": [],
   "source": []
  },
  {
   "cell_type": "markdown",
   "id": "0bf2906a-dffb-4b64-8113-6b5456562f65",
   "metadata": {},
   "source": [
    "## 데이터 준비"
   ]
  },
  {
   "cell_type": "code",
   "execution_count": 68,
   "id": "ae9f65e9-3a2d-4912-a6c9-fd941545a6db",
   "metadata": {},
   "outputs": [],
   "source": [
    "#데이터 변환\n",
    "movie_dt['id'] = movie_dt['id'].astype(str)\n",
    "credit_dt['id'] = credit_dt['id'].astype(str)"
   ]
  },
  {
   "cell_type": "code",
   "execution_count": 69,
   "id": "6314c247-62a5-41be-8588-7d0a72fcf65d",
   "metadata": {
    "scrolled": true
   },
   "outputs": [
    {
     "data": {
      "text/html": [
       "<div>\n",
       "<style scoped>\n",
       "    .dataframe tbody tr th:only-of-type {\n",
       "        vertical-align: middle;\n",
       "    }\n",
       "\n",
       "    .dataframe tbody tr th {\n",
       "        vertical-align: top;\n",
       "    }\n",
       "\n",
       "    .dataframe thead th {\n",
       "        text-align: right;\n",
       "    }\n",
       "</style>\n",
       "<table border=\"1\" class=\"dataframe\">\n",
       "  <thead>\n",
       "    <tr style=\"text-align: right;\">\n",
       "      <th></th>\n",
       "      <th>genres</th>\n",
       "      <th>id</th>\n",
       "      <th>original_language</th>\n",
       "      <th>popularity</th>\n",
       "      <th>release_date</th>\n",
       "      <th>status</th>\n",
       "      <th>title</th>\n",
       "      <th>vote_average</th>\n",
       "      <th>actor_names_x</th>\n",
       "      <th>director_names_x</th>\n",
       "      <th>actor_names_y</th>\n",
       "      <th>director_names_y</th>\n",
       "    </tr>\n",
       "  </thead>\n",
       "  <tbody>\n",
       "    <tr>\n",
       "      <th>0</th>\n",
       "      <td>Animation, Comedy, Family</td>\n",
       "      <td>862</td>\n",
       "      <td>en</td>\n",
       "      <td>21.946943</td>\n",
       "      <td>1995-10-30</td>\n",
       "      <td>Released</td>\n",
       "      <td>Toy Story</td>\n",
       "      <td>7.7</td>\n",
       "      <td>Tom Hanks, Tim Allen, Don Rickles, Jim Varney,...</td>\n",
       "      <td>John Lasseter</td>\n",
       "      <td>Tom Hanks, Tim Allen, Don Rickles, Jim Varney,...</td>\n",
       "      <td>John Lasseter</td>\n",
       "    </tr>\n",
       "    <tr>\n",
       "      <th>1</th>\n",
       "      <td>Adventure, Fantasy, Family</td>\n",
       "      <td>8844</td>\n",
       "      <td>en</td>\n",
       "      <td>17.015539</td>\n",
       "      <td>1995-12-15</td>\n",
       "      <td>Released</td>\n",
       "      <td>Jumanji</td>\n",
       "      <td>6.9</td>\n",
       "      <td>Robin Williams, Jonathan Hyde, Kirsten Dunst, ...</td>\n",
       "      <td>Joe Johnston</td>\n",
       "      <td>Robin Williams, Jonathan Hyde, Kirsten Dunst, ...</td>\n",
       "      <td>Joe Johnston</td>\n",
       "    </tr>\n",
       "    <tr>\n",
       "      <th>2</th>\n",
       "      <td>Romance, Comedy</td>\n",
       "      <td>15602</td>\n",
       "      <td>en</td>\n",
       "      <td>11.712900</td>\n",
       "      <td>1995-12-22</td>\n",
       "      <td>Released</td>\n",
       "      <td>Grumpier Old Men</td>\n",
       "      <td>6.5</td>\n",
       "      <td>Walter Matthau, Jack Lemmon, Ann-Margret, Soph...</td>\n",
       "      <td>Howard Deutch</td>\n",
       "      <td>Walter Matthau, Jack Lemmon, Ann-Margret, Soph...</td>\n",
       "      <td>Howard Deutch</td>\n",
       "    </tr>\n",
       "    <tr>\n",
       "      <th>3</th>\n",
       "      <td>Comedy, Drama, Romance</td>\n",
       "      <td>31357</td>\n",
       "      <td>en</td>\n",
       "      <td>3.859495</td>\n",
       "      <td>1995-12-22</td>\n",
       "      <td>Released</td>\n",
       "      <td>Waiting to Exhale</td>\n",
       "      <td>6.1</td>\n",
       "      <td>Whitney Houston, Angela Bassett, Loretta Devin...</td>\n",
       "      <td>Forest Whitaker</td>\n",
       "      <td>Whitney Houston, Angela Bassett, Loretta Devin...</td>\n",
       "      <td>Forest Whitaker</td>\n",
       "    </tr>\n",
       "    <tr>\n",
       "      <th>4</th>\n",
       "      <td>Comedy</td>\n",
       "      <td>11862</td>\n",
       "      <td>en</td>\n",
       "      <td>8.387519</td>\n",
       "      <td>1995-02-10</td>\n",
       "      <td>Released</td>\n",
       "      <td>Father of the Bride Part II</td>\n",
       "      <td>5.7</td>\n",
       "      <td>Steve Martin, Diane Keaton, Martin Short, Kimb...</td>\n",
       "      <td>Charles Shyer</td>\n",
       "      <td>Steve Martin, Diane Keaton, Martin Short, Kimb...</td>\n",
       "      <td>Charles Shyer</td>\n",
       "    </tr>\n",
       "  </tbody>\n",
       "</table>\n",
       "</div>"
      ],
      "text/plain": [
       "                       genres     id original_language  popularity  \\\n",
       "0   Animation, Comedy, Family    862                en   21.946943   \n",
       "1  Adventure, Fantasy, Family   8844                en   17.015539   \n",
       "2             Romance, Comedy  15602                en   11.712900   \n",
       "3      Comedy, Drama, Romance  31357                en    3.859495   \n",
       "4                      Comedy  11862                en    8.387519   \n",
       "\n",
       "  release_date    status                        title  vote_average  \\\n",
       "0   1995-10-30  Released                    Toy Story           7.7   \n",
       "1   1995-12-15  Released                      Jumanji           6.9   \n",
       "2   1995-12-22  Released             Grumpier Old Men           6.5   \n",
       "3   1995-12-22  Released            Waiting to Exhale           6.1   \n",
       "4   1995-02-10  Released  Father of the Bride Part II           5.7   \n",
       "\n",
       "                                       actor_names_x director_names_x  \\\n",
       "0  Tom Hanks, Tim Allen, Don Rickles, Jim Varney,...    John Lasseter   \n",
       "1  Robin Williams, Jonathan Hyde, Kirsten Dunst, ...     Joe Johnston   \n",
       "2  Walter Matthau, Jack Lemmon, Ann-Margret, Soph...    Howard Deutch   \n",
       "3  Whitney Houston, Angela Bassett, Loretta Devin...  Forest Whitaker   \n",
       "4  Steve Martin, Diane Keaton, Martin Short, Kimb...    Charles Shyer   \n",
       "\n",
       "                                       actor_names_y director_names_y  \n",
       "0  Tom Hanks, Tim Allen, Don Rickles, Jim Varney,...    John Lasseter  \n",
       "1  Robin Williams, Jonathan Hyde, Kirsten Dunst, ...     Joe Johnston  \n",
       "2  Walter Matthau, Jack Lemmon, Ann-Margret, Soph...    Howard Deutch  \n",
       "3  Whitney Houston, Angela Bassett, Loretta Devin...  Forest Whitaker  \n",
       "4  Steve Martin, Diane Keaton, Martin Short, Kimb...    Charles Shyer  "
      ]
     },
     "execution_count": 69,
     "metadata": {},
     "output_type": "execute_result"
    }
   ],
   "source": [
    "movie_dt = pd.merge(movie_dt, credit_dt[['id', 'actor_names', 'director_names']], on='id', how='left')\n",
    "movie_dt.head(5)"
   ]
  },
  {
   "cell_type": "code",
   "execution_count": null,
   "id": "307255ea-1e30-4459-9715-a3570002d855",
   "metadata": {},
   "outputs": [],
   "source": []
  },
  {
   "cell_type": "code",
   "execution_count": null,
   "id": "8535101e-98cc-4482-9a7a-e5b7d5f547d9",
   "metadata": {},
   "outputs": [],
   "source": []
  },
  {
   "cell_type": "markdown",
   "id": "cdbb1960-8759-4ac3-affa-15b6d08d451a",
   "metadata": {},
   "source": [
    "# 협업 필터링"
   ]
  },
  {
   "cell_type": "markdown",
   "id": "2502f39f-ff26-446a-9ee4-dca7e7a957b4",
   "metadata": {},
   "source": [
    "## 모델 기반"
   ]
  },
  {
   "cell_type": "markdown",
   "id": "a2afb854-f304-47fa-b712-23c8e6dc9585",
   "metadata": {},
   "source": [
    "#### <span style=\"color:blue\">SVD 활용</span>"
   ]
  },
  {
   "cell_type": "code",
   "execution_count": null,
   "id": "353b935a-4e15-449f-b383-5a6de358efd4",
   "metadata": {},
   "outputs": [],
   "source": [
    "# 사용자-영화 평점 매트릭스 만들기\n",
    "user_movie_matrix = rating_dt.pivot(index='userId', columns='movieId', values='rating')\n",
    "\n",
    "# 결측치는 0으로 대체\n",
    "user_movie_matrix.fillna(0, inplace=True)"
   ]
  },
  {
   "cell_type": "code",
   "execution_count": null,
   "id": "d5010ccd-8cad-4e91-86f8-f801de14a2d8",
   "metadata": {},
   "outputs": [],
   "source": [
    "# SVD 모델 정의\n",
    "n_factors = 10  # 잠재 요인 개수\n",
    "svd = TruncatedSVD(n_components=n_factors)\n",
    "\n",
    "# 사용자-영화 매트릭스 분해\n",
    "user_factors = svd.fit_transform(user_movie_matrix)\n",
    "movie_factors = svd.components_.T\n",
    "\n",
    "# 사용자-영화 평점 예측 (user_factors * movie_factors.T)\n",
    "predicted_ratings = np.dot(user_factors, movie_factors.T)"
   ]
  },
  {
   "cell_type": "code",
   "execution_count": 219,
   "id": "61e2f9e3-84ec-4ac9-a40a-fc3870b37ac9",
   "metadata": {},
   "outputs": [
    {
     "name": "stdout",
     "output_type": "stream",
     "text": [
      "추천 영화: Blood, Guts, Bullets and Octane\n",
      "추천 영화: It Happened One Night\n",
      "추천 영화: Losing Isaiah\n",
      "추천 영화: How To Make An American Quilt\n",
      "추천 영화: Twelve Monkeys\n"
     ]
    }
   ],
   "source": [
    "from datetime import datetime\n",
    "\n",
    "# 특정 사용자에게 추천할 영화 출력 함수\n",
    "def recommend_movies(user_id, num_recommendations=5, bonus_weight=0.1):\n",
    "    # 해당 사용자 ID에 대한 예측 평점 가져오기\n",
    "    user_index = user_id - 1  # 0-based 인덱스 변환\n",
    "    user_ratings = predicted_ratings[user_index]\n",
    "\n",
    "    # 사용자가 이미 본 영화 확인\n",
    "    watched_movies = user_movie_matrix.columns[user_movie_matrix.iloc[user_index, :] > 0].tolist()\n",
    "\n",
    "    # 사용자가 평가한 영화의 개봉일을 가져옴 (movie_id가 movie_dt의 index+1에 존재하는 경우만)\n",
    "    rated_movie_release_dates = []\n",
    "    for movie_id in watched_movies:\n",
    "        if not movie_dt.iloc[movie_id - 1].empty:  # movie_id는 index+1에 해당함\n",
    "            release_date = movie_dt.iloc[movie_id - 1]['release_date']\n",
    "            rated_movie_release_dates.append(pd.to_datetime(release_date))\n",
    "\n",
    "    # 사용자가 보지 않은 영화 확인\n",
    "    not_watched_movies = [movie_id for movie_id in user_movie_matrix.columns if movie_id not in watched_movies]\n",
    "\n",
    "    # 사용자가 보지 않은 영화에 대해 예측된 평점 필터링 및 가중치 부여\n",
    "    movie_scores_with_bonus = []\n",
    "\n",
    "    for idx, predicted_rating in enumerate(user_ratings):\n",
    "        movie_id = idx + 1  # movieId는 index+1에 해당\n",
    "        movie_release_date = pd.to_datetime(movie_dt.iloc[idx]['release_date'])\n",
    "\n",
    "        if pd.isna(movie_release_date) or len(rated_movie_release_dates) == 0:\n",
    "            # 개봉일이 없는 영화 또는 평가한 영화가 없는 경우 가중치 없이 기본 점수만 반영\n",
    "            proximity_bonus = 0\n",
    "        else:\n",
    "            # 사용자가 평가한 영화와 해당 영화의 개봉일 차이 계산\n",
    "            date_diff = np.mean([abs((movie_release_date - rated_date).days) for rated_date in rated_movie_release_dates])\n",
    "\n",
    "            # 날짜 차이에 따른 가중치 계산 (날짜 차이가 작을수록 가중치가 커짐)\n",
    "            proximity_bonus = bonus_weight / (1 + date_diff)\n",
    "\n",
    "        final_score = predicted_rating + proximity_bonus\n",
    "        movie_scores_with_bonus.append((movie_id, final_score))\n",
    "\n",
    "    top_recommendations = sorted(movie_scores_with_bonus, key=lambda x: x[1], reverse=True)[:num_recommendations]\n",
    "\n",
    "    # 추천된 영화 ID로 영화 제목 반환\n",
    "    for movie_id, _ in top_recommendations:\n",
    "        movie_title = movie_dt.loc[movie_dt.index == movie_id - 1, 'title'].values  # movieId는 index+1에 해당\n",
    "        if len(movie_title) > 0:\n",
    "            print(f\"추천 영화: {movie_title[0]}\")\n",
    "        else:\n",
    "            print(f\"추천 영화 ID {movie_id}에 해당하는 제목을 찾을 수 없습니다.\")\n",
    "\n",
    "# 실행\n",
    "user_id = 332  \n",
    "num_recommendations = 5  \n",
    "recommend_movies(user_id, num_recommendations)"
   ]
  },
  {
   "cell_type": "code",
   "execution_count": null,
   "id": "aa1ddc8a-9ed7-44a3-aab4-12ceedcb60b7",
   "metadata": {},
   "outputs": [],
   "source": []
  },
  {
   "cell_type": "markdown",
   "id": "afdcf78b-9b14-4ef5-8975-7da4409333ae",
   "metadata": {},
   "source": [
    "#### <span style=\"color:blue\">NCF 활용 </span>"
   ]
  },
  {
   "cell_type": "code",
   "execution_count": null,
   "id": "851611c6-d14f-478f-8e49-0623e52c1e72",
   "metadata": {},
   "outputs": [],
   "source": [
    "#!pip install deepctr-torch --user"
   ]
  },
  {
   "cell_type": "code",
   "execution_count": 179,
   "id": "2a723fa1-1510-450f-a383-eff20516bd7e",
   "metadata": {},
   "outputs": [],
   "source": [
    "import torch\n",
    "import torch.nn as nn\n",
    "import torch.optim as optim\n",
    "from sklearn.model_selection import train_test_split"
   ]
  },
  {
   "cell_type": "code",
   "execution_count": 196,
   "id": "16492ae0-0b3a-473e-9d0a-f1b736eed353",
   "metadata": {},
   "outputs": [],
   "source": [
    "rating_dt = pd.DataFrame(rating_dt)"
   ]
  },
  {
   "cell_type": "code",
   "execution_count": 198,
   "id": "4c71a8bd-a39e-47c4-807e-8001d94f3df9",
   "metadata": {},
   "outputs": [],
   "source": [
    "train_df, test_df = train_test_split(rating_dt, test_size=0.2, random_state=42)\n",
    "\n",
    "# Pytorch를 위해 장치 세팅 - GPU 사용, 불가 시 CPU\n",
    "device = torch.device('cuda' if torch.cuda.is_available() else 'cpu')"
   ]
  },
  {
   "cell_type": "code",
   "execution_count": 199,
   "id": "9cb8ab67-a92e-47cd-9c8b-57871ab3272d",
   "metadata": {},
   "outputs": [],
   "source": [
    "# Step 1: NCF 모델 정의\n",
    "class NCF(nn.Module):\n",
    "    def __init__(self, num_users, num_items, embedding_dim=32, hidden_dim=64):\n",
    "        super(NCF, self).__init__()\n",
    "        # 임베딩\n",
    "        self.user_embedding = nn.Embedding(num_users, embedding_dim)\n",
    "        self.item_embedding = nn.Embedding(num_items, embedding_dim)\n",
    "\n",
    "        # Neural network layers\n",
    "        self.fc1 = nn.Linear(embedding_dim * 2, hidden_dim)\n",
    "        self.fc2 = nn.Linear(hidden_dim, hidden_dim // 2)\n",
    "        self.fc3 = nn.Linear(hidden_dim // 2, 1)\n",
    "        \n",
    "        self.relu = nn.ReLU()\n",
    "\n",
    "    def forward(self, user_ids, item_ids):\n",
    "        # 임베딩값 가져오기\n",
    "        user_embeds = self.user_embedding(user_ids)\n",
    "        item_embeds = self.item_embedding(item_ids)\n",
    "\n",
    "        # 임베딩 값 연결\n",
    "        x = torch.cat([user_embeds, item_embeds], dim=1)\n",
    "\n",
    "        # neural network layer 통과시키기 \n",
    "        x = self.relu(self.fc1(x))\n",
    "        x = self.relu(self.fc2(x))\n",
    "        x = self.fc3(x)\n",
    "\n",
    "        return x"
   ]
  },
  {
   "cell_type": "code",
   "execution_count": 208,
   "id": "c85c7370-8d33-404c-9093-11c3fefb735d",
   "metadata": {},
   "outputs": [],
   "source": [
    "# Step 2: PyTorch에 사용할 데이터 준비\n",
    "max_user_id = rating_df['userId'].max()\n",
    "max_movie_id = rating_df['movieId'].max()\n",
    "\n",
    "train_users = torch.tensor(train_df['userId'].values - 1, dtype=torch.long).to(device)\n",
    "train_items = torch.tensor(train_df['movieId'].values - 1, dtype=torch.long).to(device)\n",
    "train_ratings = torch.tensor(train_df['rating'].values, dtype=torch.float32).to(device)\n",
    "\n",
    "test_users = torch.tensor(test_df['userId'].values - 1, dtype=torch.long).to(device)\n",
    "test_items = torch.tensor(test_df['movieId'].values - 1, dtype=torch.long).to(device)\n",
    "test_ratings = torch.tensor(test_df['rating'].values, dtype=torch.float32).to(device)"
   ]
  },
  {
   "cell_type": "code",
   "execution_count": 204,
   "id": "e014b455-ad09-4d54-ab64-894000a50779",
   "metadata": {},
   "outputs": [],
   "source": [
    "# Step 3: 초기화 및 모델 학습\n",
    "embedding_dim = 32\n",
    "hidden_dim = 64\n",
    "\n",
    "model = NCF(num_users=num_users, num_items=num_items, embedding_dim=embedding_dim, hidden_dim=hidden_dim).to(device)\n",
    "\n",
    "criterion = nn.MSELoss()\n",
    "optimizer = optim.Adam(model.parameters(), lr=0.001)"
   ]
  },
  {
   "cell_type": "code",
   "execution_count": 205,
   "id": "8c5ccbba-acb6-4d26-9ef1-287bd40ac1d6",
   "metadata": {},
   "outputs": [
    {
     "name": "stdout",
     "output_type": "stream",
     "text": [
      "Epoch 1/5, Loss: 14.225589752197266\n",
      "Epoch 2/5, Loss: 13.969388961791992\n",
      "Epoch 3/5, Loss: 13.722488403320312\n",
      "Epoch 4/5, Loss: 13.484285354614258\n",
      "Epoch 5/5, Loss: 13.254104614257812\n"
     ]
    }
   ],
   "source": [
    "# Training loop\n",
    "num_epochs = 5\n",
    "for epoch in range(num_epochs):\n",
    "    model.train()\n",
    "\n",
    "    optimizer.zero_grad()\n",
    "    \n",
    "    #forward 패스\n",
    "    predictions = model(train_users, train_items).squeeze()\n",
    "    loss = criterion(predictions, train_ratings)\n",
    "\n",
    "    # Backward pass, 최적화\n",
    "    loss.backward()\n",
    "    optimizer.step()\n",
    "\n",
    "    print(f\"Epoch {epoch+1}/{num_epochs}, Loss: {loss.item()}\")"
   ]
  },
  {
   "cell_type": "code",
   "execution_count": 206,
   "id": "acd3a87d-c66e-4927-943b-c4193c48af47",
   "metadata": {},
   "outputs": [
    {
     "name": "stdout",
     "output_type": "stream",
     "text": [
      "Test Loss: 13.10325813293457\n"
     ]
    }
   ],
   "source": [
    "# Step 4: 모델 평가 \n",
    "model.eval()\n",
    "with torch.no_grad():\n",
    "    test_predictions = model(test_users, test_items).squeeze()\n",
    "    test_loss = criterion(test_predictions, test_ratings)\n",
    "    print(f\"Test Loss: {test_loss.item()}\")"
   ]
  },
  {
   "cell_type": "code",
   "execution_count": 215,
   "id": "f47abd17-9024-4da0-8053-24137ae90275",
   "metadata": {},
   "outputs": [
    {
     "name": "stdout",
     "output_type": "stream",
     "text": [
      "Recommended Movies for User 1: ['This Christmas' 'The Last Letter' \"Neptune's Daughter\"\n",
      " 'Flodder Does Manhattan!' 'Rebirth']\n"
     ]
    }
   ],
   "source": [
    "movie_dt['release_date'] = pd.to_datetime(movie_dt['release_date'], errors='coerce')  # 잘못된 날짜는 NaT로 처리\n",
    "\n",
    "# 특정 사용자에게 영화 추천 (개봉일 근접도에 따른 가중치 부여)\n",
    "def recommend_movies(user_id, num_recommendations=5, bonus_weight=0.1):\n",
    "    max_movie_id = len(movie_dt)\n",
    "\n",
    "    # 주어진 사용자의 모든 영화에 대한 예측 평점 생성\n",
    "    user_tensor = torch.tensor([user_id - 1] * max_movie_id, dtype=torch.long).to(device)  \n",
    "    item_tensor = torch.tensor(range(max_movie_id), dtype=torch.long).to(device)\n",
    "\n",
    "    # 모델을 평가 모드로 전환하여 예측 수행\n",
    "    model.eval()\n",
    "    with torch.no_grad():\n",
    "        predictions = model(user_tensor, item_tensor).squeeze().cpu().numpy()\n",
    "\n",
    "    # 사용자가 평가한 영화 가져오기\n",
    "    user_rated_movies = rating_dt[rating_dt['userId'] == user_id]['movieId'].values\n",
    "    rated_movie_release_dates = movie_dt[movie_dt.index.isin(user_rated_movies - 1)]['release_date'].values\n",
    "\n",
    "    # 개봉일 차이에 따른 근접도 가중치 계산\n",
    "    movie_scores_with_bonus = []\n",
    "    for idx, predicted_rating in enumerate(predictions):\n",
    "        if idx >= len(movie_dt): \n",
    "            continue\n",
    "\n",
    "        movie_id = movie_dt.iloc[idx]['id'] \n",
    "        movie_release_date = movie_dt.iloc[idx]['release_date']\n",
    "\n",
    "        if pd.isna(movie_release_date):  # 개봉일이 없는 영화는 제외\n",
    "            continue\n",
    "\n",
    "        # 사용자가 평가한 영화들의 개봉일과 현재 영화의 개봉일 차이 계산\n",
    "        date_diff = np.mean([abs((movie_release_date - rated_date).days) for rated_date in rated_movie_release_dates if not pd.isna(rated_date)])\n",
    "\n",
    "        # 개봉일 차이에 따른 가중치 계산 (날짜 차이가 작을수록 더 높은 가중치 부여)\n",
    "        proximity_bonus = 1 / (1 + date_diff) \n",
    "\n",
    "        total_score = predicted_rating + bonus_weight * proximity_bonus\n",
    "        movie_scores_with_bonus.append((movie_id, total_score))\n",
    "\n",
    "    top_recommendations = sorted(movie_scores_with_bonus, key=lambda x: x[1], reverse=True)[:num_recommendations]\n",
    "\n",
    "    # 추천된 영화의 제목 가져오기\n",
    "    top_movie_ids = [rec[0] for rec in top_recommendations]\n",
    "    recommended_movies = movie_dt[movie_dt['id'].isin(top_movie_ids)]['title'].values[:num_recommendations]\n",
    "\n",
    "    return recommended_movies\n",
    "\n",
    "\n",
    "# 실행\n",
    "user_id = 1 \n",
    "num_recommendations = 5 \n",
    "recommended_movies = recommend_movies(user_id, num_recommendations)\n",
    "print(f\"사용자 {user_id}에게 추천된 영화: {recommended_movies}\")\n"
   ]
  },
  {
   "cell_type": "code",
   "execution_count": null,
   "id": "07ed235e-3b4d-4704-927d-d28862c2e739",
   "metadata": {},
   "outputs": [],
   "source": []
  },
  {
   "cell_type": "markdown",
   "id": "f3576416-7961-430f-a969-00b96f7b9022",
   "metadata": {},
   "source": [
    "#### <span style=\"color:blue\">GNNs 활용 </span>"
   ]
  },
  {
   "cell_type": "code",
   "execution_count": null,
   "id": "5b100ed4-f6a7-4536-985a-ced9962aa705",
   "metadata": {},
   "outputs": [],
   "source": []
  },
  {
   "cell_type": "code",
   "execution_count": null,
   "id": "3a3540bb-295a-44cd-b6b1-33dc972b5a31",
   "metadata": {},
   "outputs": [],
   "source": []
  },
  {
   "cell_type": "code",
   "execution_count": null,
   "id": "e84d8829-aff9-4c72-a227-6515cf1fcd47",
   "metadata": {},
   "outputs": [],
   "source": []
  },
  {
   "cell_type": "code",
   "execution_count": null,
   "id": "e31ae495-2503-4def-97d2-00c9f25aab10",
   "metadata": {},
   "outputs": [],
   "source": []
  },
  {
   "cell_type": "code",
   "execution_count": null,
   "id": "d57c6dbe-1d50-44d0-abbc-97ec8f1ebf91",
   "metadata": {},
   "outputs": [],
   "source": []
  },
  {
   "cell_type": "code",
   "execution_count": null,
   "id": "5847d3c4-171b-4735-9e40-41061854ef6b",
   "metadata": {},
   "outputs": [],
   "source": []
  },
  {
   "cell_type": "code",
   "execution_count": null,
   "id": "4e15318c-c6e3-4e00-b1e3-b6106c006242",
   "metadata": {},
   "outputs": [],
   "source": []
  },
  {
   "cell_type": "markdown",
   "id": "20514822-2131-4e92-9384-2328bef12306",
   "metadata": {},
   "source": [
    "## 메모리 기반"
   ]
  },
  {
   "cell_type": "markdown",
   "id": "1e7d208f-47e5-48a8-9500-8a446c092645",
   "metadata": {},
   "source": [
    "### 사용자 기반 협업 필터링 - 사용자 간의 유사도 비교"
   ]
  },
  {
   "cell_type": "code",
   "execution_count": 160,
   "id": "de0d0a65-811f-4056-b6f7-46a904eaf876",
   "metadata": {},
   "outputs": [],
   "source": [
    "# 사용자-영화 평점 데이터를 데이터프레임으로 변환\n",
    "rating_df = pd.DataFrame(rating_dt)\n",
    "movie_df = pd.DataFrame(movie_dt)"
   ]
  },
  {
   "cell_type": "code",
   "execution_count": 171,
   "id": "6fd24f6c-285f-4169-a154-420ddbc5565a",
   "metadata": {},
   "outputs": [],
   "source": [
    "user_movie_matrix = rating_dt.pivot_table(index='userId', columns='movieId', values='rating')"
   ]
  },
  {
   "cell_type": "code",
   "execution_count": 172,
   "id": "0f869ad0-fb14-4631-b6dd-deb14f54ad0b",
   "metadata": {},
   "outputs": [],
   "source": [
    "# 사용자 간 유사도 계산 (코사인 유사도)\n",
    "user_similarity = cosine_similarity(user_movie_matrix.fillna(0))\n",
    "user_similarity_df = pd.DataFrame(user_similarity, index=user_movie_matrix.index, columns=user_movie_matrix.index)"
   ]
  },
  {
   "cell_type": "code",
   "execution_count": 163,
   "id": "f8fa9425-f2c6-430e-b250-0a6c0099b212",
   "metadata": {
    "scrolled": true
   },
   "outputs": [
    {
     "name": "stdout",
     "output_type": "stream",
     "text": [
      "User Similarity Matrix:\n",
      " userId       1         2         3         4         5         6         7    \\\n",
      "userId                                                                         \n",
      "1       1.000000  0.000000  0.000000  0.074482  0.016818  0.000000  0.083884   \n",
      "2       0.000000  1.000000  0.124295  0.118821  0.103646  0.000000  0.212985   \n",
      "3       0.000000  0.124295  1.000000  0.081640  0.151531  0.060691  0.154714   \n",
      "4       0.074482  0.118821  0.081640  1.000000  0.130649  0.079648  0.319745   \n",
      "5       0.016818  0.103646  0.151531  0.130649  1.000000  0.063796  0.095888   \n",
      "...          ...       ...       ...       ...       ...       ...       ...   \n",
      "667     0.000000  0.425462  0.124562  0.088735  0.058252  0.000000  0.232051   \n",
      "668     0.000000  0.084646  0.124911  0.068483  0.042926  0.019563  0.058773   \n",
      "669     0.062917  0.024140  0.080984  0.104309  0.038358  0.024583  0.073151   \n",
      "670     0.000000  0.170595  0.136606  0.054512  0.062642  0.019465  0.096240   \n",
      "671     0.017466  0.113175  0.170193  0.211609  0.225086  0.087705  0.268672   \n",
      "\n",
      "userId       8         9         10   ...       662       663       664  \\\n",
      "userId                                ...                                 \n",
      "1       0.000000  0.012843  0.000000  ...  0.000000  0.000000  0.014474   \n",
      "2       0.113190  0.113333  0.043213  ...  0.477306  0.063202  0.077745   \n",
      "3       0.249781  0.134475  0.114672  ...  0.161205  0.064198  0.176134   \n",
      "4       0.191013  0.030417  0.137186  ...  0.114319  0.047228  0.136579   \n",
      "5       0.165712  0.086616  0.032370  ...  0.191029  0.021142  0.146173   \n",
      "...          ...       ...       ...  ...       ...       ...       ...   \n",
      "667     0.069005  0.066412  0.032653  ...  0.342283  0.050754  0.074080   \n",
      "668     0.112366  0.194493  0.098561  ...  0.074089  0.059010  0.093021   \n",
      "669     0.055143  0.029291  0.060549  ...  0.015960  0.025953  0.077927   \n",
      "670     0.247687  0.384429  0.158650  ...  0.183662  0.122126  0.123407   \n",
      "671     0.406414  0.168497  0.189703  ...  0.096704  0.070749  0.219728   \n",
      "\n",
      "userId       665       666       667       668       669       670       671  \n",
      "userId                                                                        \n",
      "1       0.043719  0.000000  0.000000  0.000000  0.062917  0.000000  0.017466  \n",
      "2       0.164162  0.466281  0.425462  0.084646  0.024140  0.170595  0.113175  \n",
      "3       0.158357  0.177098  0.124562  0.124911  0.080984  0.136606  0.170193  \n",
      "4       0.254030  0.121905  0.088735  0.068483  0.104309  0.054512  0.211609  \n",
      "5       0.224245  0.139721  0.058252  0.042926  0.038358  0.062642  0.225086  \n",
      "...          ...       ...       ...       ...       ...       ...       ...  \n",
      "667     0.124214  0.351207  1.000000  0.091597  0.018416  0.153111  0.127995  \n",
      "668     0.082525  0.114487  0.091597  1.000000  0.000000  0.178017  0.135387  \n",
      "669     0.101707  0.028773  0.018416  0.000000  1.000000  0.042609  0.085202  \n",
      "670     0.143380  0.159479  0.153111  0.178017  0.042609  1.000000  0.228677  \n",
      "671     0.239318  0.127204  0.127995  0.135387  0.085202  0.228677  1.000000  \n",
      "\n",
      "[671 rows x 671 columns]\n"
     ]
    }
   ],
   "source": [
    "# 사용자 간 유사도 출력\n",
    "print(\"User Similarity Matrix:\\n\", user_similarity_df)"
   ]
  },
  {
   "cell_type": "code",
   "execution_count": 168,
   "id": "f0a16730-29be-434c-9b6e-2dd02c468d4e",
   "metadata": {},
   "outputs": [
    {
     "name": "stdout",
     "output_type": "stream",
     "text": [
      "추천 영화: Jumanji\n",
      "추천 영화: Grumpier Old Men\n",
      "추천 영화: Waiting to Exhale\n",
      "추천 영화: Father of the Bride Part II\n",
      "추천 영화: Heat\n"
     ]
    }
   ],
   "source": [
    "# 특정 사용자에게 영화 추천\n",
    "def user_based_recommend(user_id, num_recommendations=5):\n",
    "    # 현재 사용자와 다른 사용자 간의 유사도 가져오기\n",
    "    similar_users = user_similarity_df[user_id].sort_values(ascending=False)\n",
    "    \n",
    "    # 가장 유사한 사용자의 평점 데이터를 가져옴\n",
    "    similar_users_ratings = user_movie_matrix.loc[similar_users.index]\n",
    "\n",
    "    # 사용자가 이미 본 영화 제외\n",
    "    user_ratings = user_movie_matrix.loc[user_id]\n",
    "    watched_movies = user_ratings[user_ratings > 0].index\n",
    "\n",
    "    # 다른 유사한 사용자들의 평균 평점 계산 (자신이 본 영화는 제외)\n",
    "    movie_recommendations = similar_users_ratings.apply(lambda x: np.dot(similar_users, x) / similar_users.sum(), axis=0)\n",
    "    movie_recommendations = movie_recommendations.drop(watched_movies)\n",
    "\n",
    "    # 평점이 높은 순으로 영화 추천\n",
    "    top_recommendations = movie_recommendations.sort_values(ascending=False).head(num_recommendations)\n",
    "    \n",
    "    # 영화 제목 출력\n",
    "    for movie_id in top_recommendations.index:\n",
    "        movie_title = movie_dt.loc[movie_dt.index == (movie_id - 1), 'title'].values\n",
    "        if len(movie_title) > 0:\n",
    "            print(f\"추천 영화: {movie_title[0]}\")\n",
    "\n",
    "# 사용자 기반 협업 필터링 추천\n",
    "user_id = 334  # 예시 사용자 ID\n",
    "user_based_recommend(user_id, num_recommendations=5)"
   ]
  },
  {
   "cell_type": "code",
   "execution_count": null,
   "id": "e8ca83bb-29f8-4cd7-8560-4387cac1cd5d",
   "metadata": {},
   "outputs": [],
   "source": []
  },
  {
   "cell_type": "code",
   "execution_count": null,
   "id": "32a47bd4-84ba-4e9b-a11f-5d3c74d46232",
   "metadata": {},
   "outputs": [],
   "source": []
  },
  {
   "cell_type": "markdown",
   "id": "c42d8cfb-5add-4c84-b426-aa6ec201fb58",
   "metadata": {},
   "source": [
    "### 아이템 기반 필터링 - 영화 간의 유사도 비교"
   ]
  },
  {
   "cell_type": "code",
   "execution_count": 174,
   "id": "b55c8739-8109-422a-b2f5-0b335a8ace06",
   "metadata": {},
   "outputs": [],
   "source": [
    "# 사용자-아이템 평점 매트릭스 만들기\n",
    "user_movie_matrix = rating_dt.pivot(index='userId', columns='movieId', values='rating')\n",
    "\n",
    "# 결측치는 0으로 대체 (NaN 처리)\n",
    "user_movie_matrix.fillna(0, inplace=True)"
   ]
  },
  {
   "cell_type": "code",
   "execution_count": 175,
   "id": "6456de79-c6d6-4309-91fe-afc3e4dddaa1",
   "metadata": {},
   "outputs": [],
   "source": [
    "# 영화 간 코사인 유사도 계산\n",
    "movie_similarity = cosine_similarity(user_movie_matrix.T)\n",
    "movie_similarity_df = pd.DataFrame(movie_similarity, index=user_movie_matrix.columns, columns=user_movie_matrix.columns)"
   ]
  },
  {
   "cell_type": "code",
   "execution_count": 177,
   "id": "ed4356c2-0800-420d-b7bd-0f1dbacfd3fc",
   "metadata": {},
   "outputs": [
    {
     "name": "stdout",
     "output_type": "stream",
     "text": [
      "추천 영화: Superstar: The Karen Carpenter Story\n",
      "추천 영화: Street Kings\n"
     ]
    }
   ],
   "source": [
    "# 특정 사용자에게 아이템 기반 추천 함수 정의\n",
    "def item_based_recommend(user_id, num_recommendations=5):\n",
    "    # 사용자의 평점 가져오기\n",
    "    user_ratings = user_movie_matrix.loc[user_id]\n",
    "    \n",
    "    # 사용자가 본 영화 중에서 평점이 높은 영화 선택\n",
    "    high_rated_movies = user_ratings[user_ratings > 0].sort_values(ascending=False).index\n",
    "\n",
    "    # 각 영화에 대해 유사한 영화 추천 (아이템 기반 협업 필터링)\n",
    "    movie_scores = pd.Series(dtype=np.float64)\n",
    "    \n",
    "    for movie_id in high_rated_movies:\n",
    "        # 해당 영화와 유사한 영화의 유사도 점수 가져오기\n",
    "        similar_movies = movie_similarity_df[movie_id]\n",
    "        similar_movies = similar_movies.drop(high_rated_movies)  # 사용자가 이미 본 영화는 제외\n",
    "        \n",
    "        # 유사도 점수를 누적\n",
    "        movie_scores = movie_scores.add(similar_movies, fill_value=0)\n",
    "\n",
    "    # 평점이 높은 순으로 영화 추천\n",
    "    top_recommendations = movie_scores.sort_values(ascending=False).head(num_recommendations)\n",
    "\n",
    "    # 영화 제목 출력\n",
    "    for movie_id in top_recommendations.index:\n",
    "        # movie_dt에서 영화 제목 가져오기 (movie_id와 index 매핑)\n",
    "        movie_title = movie_dt.loc[movie_dt['id'] == movie_id, 'title'].values\n",
    "        if len(movie_title) > 0:\n",
    "            print(f\"추천 영화: {movie_title[0]}\")\n",
    "\n",
    "# 아이템 기반 협업 필터링 추천 실행\n",
    "user_id = 1  # 예시 사용자 ID\n",
    "item_based_recommend(user_id, num_recommendations=5)"
   ]
  },
  {
   "cell_type": "code",
   "execution_count": null,
   "id": "4323c2e3-615e-4fc6-ae35-0383bbd7ca97",
   "metadata": {},
   "outputs": [],
   "source": []
  },
  {
   "cell_type": "code",
   "execution_count": null,
   "id": "5a56b312-4e5a-441b-8662-fd48bd3dab09",
   "metadata": {},
   "outputs": [],
   "source": []
  },
  {
   "cell_type": "markdown",
   "id": "7aa27a7e-e64d-4bd0-aa59-4e96233e7ae9",
   "metadata": {},
   "source": [
    "# 내용 기반(Content Based) 필터링"
   ]
  },
  {
   "cell_type": "code",
   "execution_count": null,
   "id": "bf53f948-483f-4fc2-bf05-41509214e90c",
   "metadata": {},
   "outputs": [],
   "source": []
  },
  {
   "cell_type": "code",
   "execution_count": null,
   "id": "87671b93-23cb-42f0-9f70-66a77fa6fd0e",
   "metadata": {},
   "outputs": [],
   "source": []
  },
  {
   "cell_type": "code",
   "execution_count": null,
   "id": "210cbfa5-d082-498a-a564-2ed517d1afd0",
   "metadata": {},
   "outputs": [],
   "source": []
  },
  {
   "cell_type": "code",
   "execution_count": null,
   "id": "ec4f0467-c928-4100-bb72-47dd382c6d2a",
   "metadata": {},
   "outputs": [],
   "source": []
  },
  {
   "cell_type": "code",
   "execution_count": null,
   "id": "c8ce5bf6-d939-46b9-8ae2-79ffa7493682",
   "metadata": {},
   "outputs": [],
   "source": []
  },
  {
   "cell_type": "markdown",
   "id": "836810a2-c8a2-4cdc-a87f-c34172ae8a0b",
   "metadata": {},
   "source": [
    "# 시행착오 (무시)"
   ]
  },
  {
   "cell_type": "code",
   "execution_count": 76,
   "id": "a3580c02-f138-4ca5-9077-abfbab22faca",
   "metadata": {},
   "outputs": [
    {
     "name": "stdout",
     "output_type": "stream",
     "text": [
      "빈 제목을 가진 영화의 개수: 0\n",
      "Empty DataFrame\n",
      "Columns: [id, title]\n",
      "Index: []\n"
     ]
    }
   ],
   "source": [
    "# 빈 문자열 또는 공백만 있는 title을 찾는 코드\n",
    "empty_titles = movie_dt[movie_dt['title'].str.strip() == '']\n",
    "\n",
    "# 결과 출력\n",
    "print(f\"빈 제목을 가진 영화의 개수: {len(empty_titles)}\")\n",
    "print(empty_titles[['id', 'title']])"
   ]
  },
  {
   "cell_type": "code",
   "execution_count": null,
   "id": "9df45938-7677-4ca7-af1e-5b122842e410",
   "metadata": {},
   "outputs": [],
   "source": []
  },
  {
   "cell_type": "code",
   "execution_count": 114,
   "id": "4f5187f7-d830-412d-be2c-d4c3309f5d2c",
   "metadata": {},
   "outputs": [
    {
     "name": "stdout",
     "output_type": "stream",
     "text": [
      "Recommended movies for user 340:\n",
      "       id                               title  predicted_rating\n",
      "3382  593                             Solaris          2.991349\n",
      "4018  318            The Million Dollar Hotel          2.792295\n",
      "6388  296  Terminator 3: Rise of the Machines          2.443734\n"
     ]
    }
   ],
   "source": [
    "def recommend_movies_user_based(user_id, user_movie_matrix, user_similarity_df, movie_df, num_recommendations=5):\n",
    "    # 해당 사용자와 유사한 사용자 목록 가져오기\n",
    "    similar_users = user_similarity_df[user_id].drop(user_id).sort_values(ascending=False)\n",
    "\n",
    "    # 유사한 사용자가 평가한 영화의 가중 평점 계산\n",
    "    similar_user_ratings = user_movie_matrix.loc[similar_users.index]\n",
    "    weighted_ratings = similar_users.dot(similar_user_ratings.fillna(0)) / similar_users.sum()\n",
    "\n",
    "    # 추천할 영화 정렬 후 상위 추천\n",
    "    recommendations = weighted_ratings.sort_values(ascending=False).head(num_recommendations)\n",
    "\n",
    "    # 인덱스 타입을 맞춰주기 위해 movie_df의 'id'와 recommendations의 index를 둘 다 정수형으로 변환\n",
    "    movie_df['id'] = movie_df['id'].astype(int)\n",
    "    \n",
    "    # movie_df와 recommendations 간의 공통된 영화 ID만 선택\n",
    "    recommended_movies = movie_df[movie_df['id'].isin(recommendations.index.astype(int))]\n",
    "\n",
    "    # 매칭된 영화 ID에 해당하는 예측 평점만 남기기\n",
    "    matched_recommendations = recommendations[recommendations.index.isin(recommended_movies['id'])]\n",
    "\n",
    "    # 예측 평점 추가\n",
    "    recommended_movies['predicted_rating'] = matched_recommendations.values\n",
    "\n",
    "    return recommended_movies[['id', 'title', 'predicted_rating']]\n",
    "\n",
    "# 사용자 1에게 추천할 영화 찾기\n",
    "user_id = 340\n",
    "recommended_movies = recommend_movies_user_based(user_id, user_movie_matrix, user_similarity_df, movie_df)\n",
    "\n",
    "print(f\"Recommended movies for user {user_id}:\\n{recommended_movies}\")"
   ]
  },
  {
   "cell_type": "code",
   "execution_count": null,
   "id": "cdd63018-f4f1-445b-ae83-d5980f347795",
   "metadata": {},
   "outputs": [],
   "source": []
  }
 ],
 "metadata": {
  "kernelspec": {
   "display_name": "Python 3 (ipykernel)",
   "language": "python",
   "name": "python3"
  },
  "language_info": {
   "codemirror_mode": {
    "name": "ipython",
    "version": 3
   },
   "file_extension": ".py",
   "mimetype": "text/x-python",
   "name": "python",
   "nbconvert_exporter": "python",
   "pygments_lexer": "ipython3",
   "version": "3.10.11"
  }
 },
 "nbformat": 4,
 "nbformat_minor": 5
}
