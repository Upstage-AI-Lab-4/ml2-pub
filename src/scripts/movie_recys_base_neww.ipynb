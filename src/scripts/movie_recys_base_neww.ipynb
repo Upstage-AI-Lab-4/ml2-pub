{
 "cells": [
  {
   "cell_type": "code",
   "execution_count": 1,
   "metadata": {},
   "outputs": [],
   "source": [
    "import pandas as pd\n",
    "\n",
    "# 필요한 데이터를 load 하겠습니다. 경로는 환경에 맞게 지정해주면 됩니다.\n",
    "movie_path = '/Users/kimseohyun/Desktop/패스트캠퍼스/프로젝트/MLProject2_영화_추천_시스템/code/ml-project-ml-pjt-2/src/datasets/movie.csv'\n",
    "rating_path = '/Users/kimseohyun/Desktop/패스트캠퍼스/프로젝트/MLProject2_영화_추천_시스템/code/ml-project-ml-pjt-2/src/datasets/rating.csv'\n",
    "rating_dt = pd.read_csv(rating_path)  \n",
    "movie_dt = pd.read_csv(movie_path)"
   ]
  },
  {
   "cell_type": "code",
   "execution_count": 2,
   "metadata": {},
   "outputs": [],
   "source": [
    "#결측치가 32000개 이상인건 의미없다고 판단 (영화가 4만 5천개인데 3만5천개면 )75% 결측)\n",
    "drop_column_list = list(movie_dt.columns[movie_dt.isnull().sum()<=35000])\n",
    "movie_dt = movie_dt[drop_column_list]\n",
    "\n",
    "#status가 released가 아닌 영화들은 볼수 없으니 제외\n",
    "#데이터셋이 과거의 자료여서 post production, In Production 등 production중인 영화들은 이미 개봉했을 수 있지만\n",
    "#무비 데이터를 최신으로 변경하기 전까지는 현재 데이터셋에선 우선 제거하는걸로\n",
    "movie_dt = movie_dt[movie_dt['status'] == 'Released'].dropna(subset=['status'])\n",
    "\n",
    "#지금단계에서 필요없어보이는 column 제거\n",
    "movie_dt = movie_dt.drop(['overview', 'poster_path', 'tagline', 'spoken_languages'], axis=1)"
   ]
  },
  {
   "cell_type": "code",
   "execution_count": 3,
   "metadata": {},
   "outputs": [
    {
     "name": "stdout",
     "output_type": "stream",
     "text": [
      "int64\n",
      "int64\n"
     ]
    }
   ],
   "source": [
    "print(movie_dt['id'].dtype)\n",
    "print(rating_dt['tmdbId'].dtype)"
   ]
  },
  {
   "cell_type": "code",
   "execution_count": 4,
   "metadata": {},
   "outputs": [],
   "source": [
    "# 'id' 열을 정수형으로 변환\n",
    "movie_dt['id'] = movie_dt['id'].astype(int)\n",
    "rating_dt['tmdbId'] = rating_dt['tmdbId'].astype(int)"
   ]
  },
  {
   "cell_type": "code",
   "execution_count": null,
   "metadata": {},
   "outputs": [
    {
     "name": "stdout",
     "output_type": "stream",
     "text": [
      "int64\n",
      "int64\n"
     ]
    }
   ],
   "source": [
    "print(movie_dt['id'].dtype)\n",
    "print(rating_dt['tmdbId'].dtype)"
   ]
  },
  {
   "cell_type": "code",
   "execution_count": 5,
   "metadata": {},
   "outputs": [
    {
     "name": "stdout",
     "output_type": "stream",
     "text": [
      "User-Item Matrix shape: (270897, 469173)\n",
      "Number of users: 270897, Number of movies: 469173\n"
     ]
    }
   ],
   "source": [
    "from scipy.sparse import csr_matrix\n",
    "\n",
    "def create_user_item_matrix(rating_dt):\n",
    "    # 사용자와 아이템(영화)의 고유 ID를 인덱스로 변환\n",
    "    user_ids = rating_dt['userId']#.astype('category').cat.codes\n",
    "    movie_ids = rating_dt['tmdbId']#.astype('category').cat.codes\n",
    "    ratings = rating_dt['rating'].values\n",
    "\n",
    "    # csr_matrix 생성\n",
    "    user_item_matrix = csr_matrix((ratings, (user_ids, movie_ids)))\n",
    "\n",
    "    return user_item_matrix, user_ids, movie_ids\n",
    "\n",
    "# 사용자-아이템 행렬 생성\n",
    "user_item_matrix, user_ids, movie_ids = create_user_item_matrix(rating_dt)\n",
    "\n",
    "# 생성된 csr_matrix 정보 출력\n",
    "print(f\"User-Item Matrix shape: {user_item_matrix.shape}\")\n",
    "print(f\"Number of users: {user_item_matrix.shape[0]}, Number of movies: {user_item_matrix.shape[1]}\")\n"
   ]
  },
  {
   "cell_type": "code",
   "execution_count": 6,
   "metadata": {},
   "outputs": [
    {
     "name": "stderr",
     "output_type": "stream",
     "text": [
      "/Users/kimseohyun/Library/Python/3.9/lib/python/site-packages/tqdm/auto.py:21: TqdmWarning: IProgress not found. Please update jupyter and ipywidgets. See https://ipywidgets.readthedocs.io/en/stable/user_install.html\n",
      "  from .autonotebook import tqdm as notebook_tqdm\n",
      "/Users/kimseohyun/Library/Python/3.9/lib/python/site-packages/implicit/cpu/als.py:95: RuntimeWarning: OpenBLAS is configured to use 8 threads. It is highly recommended to disable its internal threadpool by setting the environment variable 'OPENBLAS_NUM_THREADS=1' or by calling 'threadpoolctl.threadpool_limits(1, \"blas\")'. Having OpenBLAS use a threadpool can lead to severe performance issues here.\n",
      "  check_blas_config()\n",
      "100%|██████████| 40/40 [02:08<00:00,  3.21s/it]\n"
     ]
    }
   ],
   "source": [
    "from implicit.als import AlternatingLeastSquares\n",
    "\n",
    "model = AlternatingLeastSquares(\n",
    "        factors=10,\n",
    "        regularization=0.08,\n",
    "        iterations=40,\n",
    "        calculate_training_loss=False\n",
    "    )\n",
    "model.fit(user_item_matrix)"
   ]
  },
  {
   "cell_type": "code",
   "execution_count": 9,
   "metadata": {},
   "outputs": [],
   "source": [
    "from scipy.sparse import csr_matrix\n",
    "\n",
    "def recommend_movie_by_als(user_id, n_movies=5, new_user_vector=None):\n",
    "    # 사용자가 이미 평가한 영화와 평점 출력\n",
    "    user_ratings = rating_dt[rating_dt['userId'] == user_id]\n",
    "    print(f\"User {user_id}의 평가 영화 및 평점:\")\n",
    "    for idx, row in user_ratings.iterrows():\n",
    "        movie_title = movie_dt.loc[movie_dt['id'] == row['tmdbId'], 'title'].values\n",
    "        if len(movie_title) > 0:\n",
    "            print(f\"- {movie_title[0]}: {row['rating']}점\")\n",
    "        else:\n",
    "            print(f\"- tmdbId {row['tmdbId']}에 해당하는 영화 제목을 찾을 수 없습니다.\")\n",
    "\n",
    "    # ALS 모델을 사용하여 추천 영화 목록 생성\n",
    "    print(f\"\\nUser {user_id}에게 추천하는 영화 {n_movies}개:\")\n",
    "    if new_user_vector is None:\n",
    "        recommendations = model.recommend(user_id, user_item_matrix[user_id], N=n_movies)\n",
    "    else:\n",
    "        # new_user_vector를 CSR 형식으로 변환\n",
    "        new_user_vector_csr = csr_matrix(new_user_vector)\n",
    "\n",
    "        # 변환된 CSR 형식을 사용하여 추천 생성, recalculate_user=True 사용\n",
    "        recommendations = model.recommend(\n",
    "            userid=user_id,\n",
    "            user_items=new_user_vector_csr,\n",
    "            N=n_movies,\n",
    "            recalculate_user=True\n",
    "        )\n",
    "\n",
    "    # 추천된 영화 ID 목록 추출\n",
    "    recommended_ids = recommendations[0]\n",
    "\n",
    "    # 추천된 ID가 movie_dt에 있는지 확인 및 필터링\n",
    "    valid_recommended_ids = [ids for ids in recommended_ids if ids in movie_dt['id'].values]\n",
    "    missing_ids = [ids for ids in recommended_ids if ids not in movie_dt['id'].values]\n",
    "\n",
    "    if missing_ids:\n",
    "        print(f\"movie_dt에서 찾을 수 없는 추천된 ID: {missing_ids}\")\n",
    "    else:\n",
    "        print(\"모든 추천된 ID가 movie_dt에 있습니다.\")\n",
    "\n",
    "    # 추천된 영화 목록 출력\n",
    "    for ids in valid_recommended_ids:\n",
    "        movie_title = movie_dt.loc[movie_dt['id'] == ids, 'title'].values\n",
    "        if len(movie_title) > 0:\n",
    "            print(f\"- {movie_title[0]}\")\n",
    "        else:\n",
    "            print(f\"- 추천된 id {ids}에 해당하는 영화 제목을 찾을 수 없습니다.\")\n",
    "\n",
    "    return\n"
   ]
  },
  {
   "cell_type": "code",
   "execution_count": 10,
   "metadata": {},
   "outputs": [
    {
     "name": "stdout",
     "output_type": "stream",
     "text": [
      "User 100의 평가 영화 및 평점:\n",
      "- Heavenly Creatures: 3.0점\n",
      "- Evil Dead II: 3.5점\n",
      "- My Own Private Idaho: 3.5점\n",
      "\n",
      "User 100에게 추천하는 영화 5개:\n",
      "모든 추천된 ID가 movie_dt에 있습니다.\n",
      "- The City of Lost Children\n",
      "- Brazil\n",
      "- Twelve Monkeys\n",
      "- Trainspotting\n",
      "- A Clockwork Orange\n"
     ]
    }
   ],
   "source": [
    "recommend_movie_by_als(100)"
   ]
  },
  {
   "cell_type": "code",
   "execution_count": 11,
   "metadata": {},
   "outputs": [],
   "source": [
    "#예를들어, 이렇게 하자.\n",
    "#영화별 평점을 10개만 물어보고, 해당 평점을 토대로 추천하고싶다.\n",
    "import numpy as np\n",
    "\n",
    "new_user_ratings = {\n",
    "    'userId': rating_dt['userId'].max()+1,  \n",
    "    'movieId': [25756,52106,36880,11959,12774,124124,267654,1412,24254,40448],\n",
    "    'rating': [4, 5, 3, 4, 2, 5, 3, 4, 4, 5]  # 유저가 입력한 평점\n",
    "    #평점부분 받을수있게 만들어야함\n",
    "}\n",
    "\n",
    "# DataFrame으로 변환\n",
    "new_ratings_df = pd.DataFrame(new_user_ratings)\n",
    "\n",
    "existing_movie_ids = user_item_matrix.shape[1]\n",
    "\n",
    "# 신규 유저 평점 벡터 생성\n",
    "new_user_vector = np.zeros(existing_movie_ids)\n",
    "\n",
    "# 신규 유저의 평점을 벡터에 채워넣기\n",
    "for _, row in new_ratings_df.iterrows():\n",
    "    movie_index = row['movieId']  # 영화 ID\n",
    "    new_user_vector[movie_index] = row['rating']  # 평점 입력"
   ]
  },
  {
   "cell_type": "code",
   "execution_count": 12,
   "metadata": {},
   "outputs": [
    {
     "data": {
      "text/plain": [
       "np.int64(270897)"
      ]
     },
     "execution_count": 12,
     "metadata": {},
     "output_type": "execute_result"
    }
   ],
   "source": [
    "rating_dt['userId'].max()+1"
   ]
  },
  {
   "cell_type": "code",
   "execution_count": 13,
   "metadata": {},
   "outputs": [
    {
     "name": "stdout",
     "output_type": "stream",
     "text": [
      "User 270897의 평가 영화 및 평점:\n",
      "\n",
      "User 270897에게 추천하는 영화 5개:\n",
      "모든 추천된 ID가 movie_dt에 있습니다.\n",
      "- Harold and Maude\n",
      "- Manhattan\n",
      "- Sleeper\n",
      "- Annie Hall\n",
      "- Some Like It Hot\n"
     ]
    }
   ],
   "source": [
    "recommend_movie_by_als(rating_dt['userId'].max()+1,new_user_vector=new_user_vector)"
   ]
  },
  {
   "cell_type": "code",
   "execution_count": 15,
   "metadata": {},
   "outputs": [
    {
     "name": "stdout",
     "output_type": "stream",
     "text": [
      "모델이 '/Users/kimseohyun/Desktop/패스트캠퍼스/프로젝트/MLProject2_영화_추천_시스템/code/ml-project-ml-pjt-2/src/outputs/real_als_model.pkl'에 저장되었습니다.\n"
     ]
    }
   ],
   "source": [
    "import pickle\n",
    "import os\n",
    "\n",
    "def save_model(model, filepath='/Users/kimseohyun/Desktop/패스트캠퍼스/프로젝트/MLProject2_영화_추천_시스템/code/ml-project-ml-pjt-2/src/outputs/real_als_model.pkl'):\n",
    "    # 저장할 디렉토리가 없으면 생성\n",
    "    os.makedirs(os.path.dirname(filepath), exist_ok=True)\n",
    "    \n",
    "    # 모델 저장\n",
    "    with open(filepath, 'wb') as file:\n",
    "        pickle.dump(model, file)\n",
    "    print(f\"모델이 '{filepath}'에 저장되었습니다.\")\n",
    "    \n",
    "save_model(model, filepath='/Users/kimseohyun/Desktop/패스트캠퍼스/프로젝트/MLProject2_영화_추천_시스템/code/ml-project-ml-pjt-2/src/outputs/real_als_model.pkl')"
   ]
  },
  {
   "cell_type": "code",
   "execution_count": null,
   "metadata": {},
   "outputs": [],
   "source": []
  }
 ],
 "metadata": {
  "kernelspec": {
   "display_name": "Python 3",
   "language": "python",
   "name": "python3"
  },
  "language_info": {
   "codemirror_mode": {
    "name": "ipython",
    "version": 3
   },
   "file_extension": ".py",
   "mimetype": "text/x-python",
   "name": "python",
   "nbconvert_exporter": "python",
   "pygments_lexer": "ipython3",
   "version": "3.9.6"
  }
 },
 "nbformat": 4,
 "nbformat_minor": 2
}
